{
  "nbformat": 4,
  "nbformat_minor": 0,
  "metadata": {
    "language_info": {
      "codemirror_mode": {
        "name": "ipython",
        "version": 3
      },
      "file_extension": ".py",
      "mimetype": "text/x-python",
      "name": "python",
      "nbconvert_exporter": "python",
      "pygments_lexer": "ipython3",
      "version": "3.8.5"
    },
    "orig_nbformat": 2,
    "kernelspec": {
      "name": "python385jvsc74a57bd0916dbcbb3f70747c44a77c7bcd40155683ae19c65e1c03b4aa3499c5328201f1",
      "display_name": "Python 3.8.5 64-bit"
    },
    "metadata": {
      "interpreter": {
        "hash": "916dbcbb3f70747c44a77c7bcd40155683ae19c65e1c03b4aa3499c5328201f1"
      }
    },
    "colab": {
      "name": "PIE_training (3).ipynb",
      "provenance": [],
      "collapsed_sections": [],
      "toc_visible": true
    },
    "accelerator": "GPU"
  },
  "cells": [
    {
      "cell_type": "markdown",
      "metadata": {
        "id": "rWB5GR2Vl00C"
      },
      "source": [
        "# PIE TRAINING"
      ]
    },
    {
      "cell_type": "code",
      "metadata": {
        "colab": {
          "base_uri": "https://localhost:8080/"
        },
        "id": "CSZff1sJ6men",
        "outputId": "7698294c-6c8c-4dd6-f7c2-d0b7347eb7d5"
      },
      "source": [
        "from google.colab import drive\n",
        "drive.mount('/content/drive')"
      ],
      "execution_count": 1,
      "outputs": [
        {
          "output_type": "stream",
          "text": [
            "Mounted at /content/drive\n"
          ],
          "name": "stdout"
        }
      ]
    },
    {
      "cell_type": "markdown",
      "metadata": {
        "id": "EdxFk84_l00K"
      },
      "source": [
        "## Setup"
      ]
    },
    {
      "cell_type": "code",
      "metadata": {
        "id": "NABBRcFul00L"
      },
      "source": [
        "import os\n",
        "os.chdir('/content/drive/Shareddrives/eecs442/PIE_PACK')\n",
        "from pie_data import PIE\n",
        "import torch\n",
        "import torchvision\n",
        "import torch.nn as nn\n",
        "import torch.optim as optim\n",
        "import torchvision.models as models\n",
        "import pickle\n",
        "import cv2\n",
        "import sys\n",
        "\n",
        "import xml.etree.ElementTree as ET\n",
        "import numpy as np\n",
        "\n",
        "from os.path import join, abspath, isfile, isdir\n",
        "from os import makedirs, listdir\n",
        "from sklearn.model_selection import train_test_split, KFold\n",
        "from matplotlib import pyplot as plt\n",
        "import pylab\n",
        "from torch.utils.data import DataLoader\n",
        "from torchvision import datasets, models, transforms\n",
        "from torch.utils.data.dataset import Dataset\n",
        "from torchsummary import summary\n",
        "from tqdm import tqdm\n",
        "import pandas as pd\n",
        "import math\n",
        "import random"
      ],
      "execution_count": 3,
      "outputs": []
    },
    {
      "cell_type": "code",
      "metadata": {
        "colab": {
          "base_uri": "https://localhost:8080/"
        },
        "id": "18x-JBDFl00M",
        "outputId": "ae86b007-e555-4145-a3d3-02a98ea2fcbb"
      },
      "source": [
        "if torch.cuda.is_available():\n",
        "    print(\"Using the GPU. You are good to go!\")\n",
        "    device = torch.device('cuda:0')\n",
        "else:\n",
        "    raise Exception(\"WARNING: Could not find GPU! Using CPU only. \\\n",
        "To enable GPU, please to go Edit > Notebook Settings > Hardware \\\n",
        "Accelerator and select GPU.\")"
      ],
      "execution_count": 4,
      "outputs": [
        {
          "output_type": "stream",
          "text": [
            "Using the GPU. You are good to go!\n"
          ],
          "name": "stdout"
        }
      ]
    },
    {
      "cell_type": "code",
      "metadata": {
        "id": "t9J7T4OAl00N"
      },
      "source": [
        "##############################################################################\n",
        "# TODO: Adjust Sequence size and batch_size for loaders                      #\n",
        "##############################################################################\n",
        "SEQUENCE_SIZE = 20\n",
        "BATCH_SIZE = 10\n",
        "pie_path = '.'\n",
        "imdb = PIE(data_path=pie_path, regen_database=False, include_set=\"1,2\", frinterval=1, downsample=1600)"
      ],
      "execution_count": 23,
      "outputs": []
    },
    {
      "cell_type": "markdown",
      "metadata": {
        "id": "CNS7hINyl00N"
      },
      "source": [
        "## Dataset"
      ]
    },
    {
      "cell_type": "code",
      "metadata": {
        "colab": {
          "base_uri": "https://localhost:8080/"
        },
        "id": "4V2_0rSkl00O",
        "outputId": "e6730dd8-a0d6-45b0-90f5-054b8fa2052b"
      },
      "source": [
        "class PedDataset(Dataset):\n",
        "    def __init__(self, ped_personal_images_intention, data_range=(0, 1)):\n",
        "        self.dataset = ped_personal_images_intention[data_range[0]:data_range[1]]\n",
        "        for index in range(len(self.dataset)):\n",
        "          self.dataset[index]=(self.dataset[index][0],self.dataset[index][1])\n",
        "        print(\"load dataset done\")\n",
        "\n",
        "    def __len__(self):\n",
        "        return len(self.dataset)\n",
        "\n",
        "    def __getitem__(self, index):\n",
        "        img_seq, label = self.dataset[index]\n",
        "        seq_tensor = torch.stack(img_seq).cuda()\n",
        "        label = int(label > 0.5)\n",
        "        return torch.cuda.FloatTensor(seq_tensor), torch.tensor(label).cuda()\n",
        "\n",
        "\n",
        "\n",
        "\n",
        "class PedDataset(Dataset):\n",
        "    def __init__(self, ped_personal_images_intention, data_range=(0, 1)):\n",
        "        self.dataset = ped_personal_images_intention[data_range[0]:data_range[1]]\n",
        "        for index in range(len(self.dataset)):\n",
        "          self.dataset[index]=(self.dataset[index][0],self.dataset[index][1])\n",
        "        print(\"load dataset done\")\n",
        "\n",
        "    def __len__(self):\n",
        "        return len(self.dataset)\n",
        "\n",
        "    def __getitem__(self, index):\n",
        "        img_seq, label = self.dataset[index]\n",
        "        seq_tensor = torch.stack(img_seq).cuda()\n",
        "        label = int(label > 0.5)\n",
        "        return torch.cuda.FloatTensor(seq_tensor), torch.tensor(label).cuda()\n",
        "\n",
        "def get_ped_images_and_intention_v_colab(sequence_size=10, shuffle=True):\n",
        "    ped_personal_intention_prob = pd.read_csv(\"ped_personal_intention_prob.csv\")\n",
        "    ped_personal_images_intention = []\n",
        "    start = False\n",
        "    for root, dirs, files in os.walk(imdb._input_path):\n",
        "        if start:\n",
        "            temp_dir = []\n",
        "            index_file = 0\n",
        "            sequence_index = 0\n",
        "            num_files = len(os.listdir(root))\n",
        "            if num_files < sequence_size:\n",
        "                continue\n",
        "            for file in files:\n",
        "                if index_file % (\n",
        "                        int(math.floor(num_files / sequence_size))) != 0 or sequence_index >= sequence_size:\n",
        "                    index_file += 1\n",
        "                    continue\n",
        "                else:\n",
        "                    sequence_index += 1\n",
        "                    temp_dir.append(\n",
        "                        (torch.from_numpy(cv2.imread(join(root, file)).astype(\"f\").transpose(2, 0,\n",
        "                                                                                             1) / 128.0 - 1.0)))\n",
        "                index_file += 1\n",
        "            # print(ped_personal_intention_prob[root[8:]])\n",
        "            ped_personal_images_intention.append((temp_dir, float(ped_personal_intention_prob[root[8:]])))\n",
        "        else:\n",
        "            start = True\n",
        "    num_available_peds = len(ped_personal_images_intention)\n",
        "    # print(num_available_peds)\n",
        "    if shuffle:\n",
        "        random.shuffle(ped_personal_images_intention)\n",
        "    return ped_personal_images_intention, num_available_peds\n",
        "\n",
        "ped_personal_images_intention, num_available_peds = get_ped_images_and_intention_v_colab(sequence_size=SEQUENCE_SIZE, shuffle=True)\n",
        "train_data = PedDataset(ped_personal_images_intention, data_range=(0, 100))\n",
        "train_loader = DataLoader(train_data, batch_size=BATCH_SIZE, shuffle=True)\n",
        "#TODO: Checkout the shuffle option for the DataLoader function\n",
        "val_data = PedDataset(ped_personal_images_intention, data_range=(100, 180))\n",
        "val_loader = DataLoader(val_data, batch_size=BATCH_SIZE, shuffle=True)\n",
        "test_data = PedDataset(ped_personal_images_intention, data_range=(180, 200))\n",
        "test_loader = DataLoader(test_data, batch_size=BATCH_SIZE, shuffle=True)"
      ],
      "execution_count": 29,
      "outputs": [
        {
          "output_type": "stream",
          "text": [
            "load dataset done\n",
            "load dataset done\n",
            "load dataset done\n"
          ],
          "name": "stdout"
        }
      ]
    },
    {
      "cell_type": "code",
      "metadata": {
        "colab": {
          "base_uri": "https://localhost:8080/"
        },
        "id": "aILiBQTqd2IL",
        "outputId": "f736e7e0-9d3b-4c48-90a7-c7baf78168f6"
      },
      "source": [
        "test_data.__getitem__(0)"
      ],
      "execution_count": null,
      "outputs": [
        {
          "output_type": "execute_result",
          "data": {
            "text/plain": [
              "(tensor([[[[-0.6484, -0.7578, -0.7734,  ..., -0.0625, -0.3750, -0.0781],\n",
              "           [-0.6719, -0.7109, -0.7422,  ..., -0.2812, -0.2578, -0.0547],\n",
              "           [-0.7500, -0.7812, -0.7422,  ..., -0.2578, -0.4375, -0.1562],\n",
              "           ...,\n",
              "           [-0.7734, -0.7344, -0.7266,  ..., -0.1250, -0.1406, -0.1016],\n",
              "           [-0.7734, -0.7578, -0.7500,  ..., -0.1328, -0.1250, -0.1172],\n",
              "           [-0.7734, -0.7812, -0.7734,  ..., -0.1016, -0.0938, -0.0859]],\n",
              " \n",
              "          [[-0.6797, -0.7891, -0.7891,  ..., -0.0703, -0.3359, -0.1094],\n",
              "           [-0.6875, -0.7266, -0.7422,  ..., -0.2812, -0.2578, -0.0859],\n",
              "           [-0.7578, -0.7891, -0.7500,  ..., -0.2500, -0.4375, -0.1875],\n",
              "           ...,\n",
              "           [-0.7969, -0.7812, -0.7891,  ..., -0.0625, -0.0781, -0.0391],\n",
              "           [-0.8047, -0.7969, -0.7891,  ..., -0.0625, -0.0547, -0.0547],\n",
              "           [-0.8047, -0.8125, -0.8047,  ..., -0.0547, -0.0469, -0.0391]],\n",
              " \n",
              "          [[-0.6719, -0.7812, -0.7891,  ..., -0.0625, -0.4375, -0.2656],\n",
              "           [-0.6641, -0.7109, -0.7422,  ..., -0.2812, -0.3672, -0.2578],\n",
              "           [-0.7344, -0.7734, -0.7500,  ..., -0.2422, -0.4922, -0.2812],\n",
              "           ...,\n",
              "           [-0.8047, -0.7891, -0.7891,  ..., -0.0391, -0.0547, -0.0156],\n",
              "           [-0.8125, -0.8047, -0.7969,  ..., -0.0547, -0.0469, -0.0391],\n",
              "           [-0.8125, -0.8203, -0.8125,  ..., -0.0469, -0.0391, -0.0312]]],\n",
              " \n",
              " \n",
              "         [[[-0.6562, -0.7500, -0.7734,  ..., -0.0625, -0.3984, -0.0781],\n",
              "           [-0.6719, -0.7109, -0.7422,  ..., -0.2500, -0.2578, -0.0547],\n",
              "           [-0.7500, -0.7812, -0.7500,  ..., -0.3203, -0.4375, -0.1719],\n",
              "           ...,\n",
              "           [-0.7656, -0.7344, -0.7266,  ..., -0.1250, -0.1484, -0.0859],\n",
              "           [-0.7734, -0.7578, -0.7500,  ..., -0.1250, -0.1250, -0.1094],\n",
              "           [-0.7734, -0.7812, -0.7734,  ..., -0.0938, -0.0859, -0.0859]],\n",
              " \n",
              "          [[-0.6797, -0.7812, -0.7891,  ..., -0.0703, -0.3672, -0.1094],\n",
              "           [-0.6953, -0.7266, -0.7422,  ..., -0.2578, -0.2656, -0.0938],\n",
              "           [-0.7578, -0.7891, -0.7578,  ..., -0.3125, -0.4375, -0.1953],\n",
              "           ...,\n",
              "           [-0.7891, -0.7812, -0.7891,  ..., -0.0625, -0.0859, -0.0234],\n",
              "           [-0.8047, -0.7969, -0.7891,  ..., -0.0547, -0.0547, -0.0469],\n",
              "           [-0.8047, -0.8125, -0.8047,  ..., -0.0547, -0.0391, -0.0391]],\n",
              " \n",
              "          [[-0.6797, -0.7734, -0.7969,  ..., -0.0625, -0.4688, -0.2656],\n",
              "           [-0.6719, -0.7109, -0.7422,  ..., -0.2578, -0.3672, -0.2500],\n",
              "           [-0.7344, -0.7734, -0.7578,  ..., -0.3125, -0.4922, -0.3047],\n",
              "           ...,\n",
              "           [-0.7969, -0.7891, -0.7891,  ..., -0.0391, -0.0703,  0.0000],\n",
              "           [-0.8125, -0.8047, -0.7969,  ..., -0.0469, -0.0469, -0.0391],\n",
              "           [-0.8125, -0.8203, -0.8125,  ..., -0.0391, -0.0312, -0.0312]]],\n",
              " \n",
              " \n",
              "         [[[-0.6719, -0.7578, -0.7500,  ..., -0.0391, -0.3125, -0.1172],\n",
              "           [-0.6484, -0.6953, -0.7344,  ..., -0.2734, -0.2266, -0.0781],\n",
              "           [-0.7422, -0.7734, -0.7422,  ..., -0.3047, -0.3828, -0.1484],\n",
              "           ...,\n",
              "           [-0.7500, -0.7344, -0.7188,  ..., -0.1016, -0.1406, -0.1016],\n",
              "           [-0.7734, -0.7656, -0.7500,  ..., -0.1250, -0.1250, -0.1172],\n",
              "           [-0.7734, -0.7734, -0.7734,  ..., -0.0938, -0.1094, -0.1016]],\n",
              " \n",
              "          [[-0.6875, -0.7734, -0.7656,  ..., -0.0391, -0.2969, -0.1406],\n",
              "           [-0.6484, -0.6953, -0.7500,  ..., -0.2812, -0.2578, -0.1250],\n",
              "           [-0.7422, -0.7734, -0.7578,  ..., -0.2891, -0.3828, -0.1797],\n",
              "           ...,\n",
              "           [-0.7969, -0.7812, -0.7812,  ..., -0.0312, -0.0703, -0.0312],\n",
              "           [-0.8047, -0.7969, -0.7891,  ..., -0.0547, -0.0547, -0.0469],\n",
              "           [-0.8047, -0.8047, -0.7969,  ..., -0.0469, -0.0469, -0.0391]],\n",
              " \n",
              "          [[-0.6953, -0.7812, -0.7734,  ..., -0.0312, -0.3828, -0.2656],\n",
              "           [-0.6484, -0.6953, -0.7578,  ..., -0.2734, -0.3359, -0.2656],\n",
              "           [-0.7422, -0.7734, -0.7656,  ..., -0.3281, -0.4453, -0.2734],\n",
              "           ...,\n",
              "           [-0.8125, -0.7891, -0.7969,  ..., -0.0234, -0.0625, -0.0156],\n",
              "           [-0.8125, -0.8047, -0.7969,  ..., -0.0469, -0.0469, -0.0391],\n",
              "           [-0.8125, -0.8125, -0.8125,  ..., -0.0312, -0.0391, -0.0312]]],\n",
              " \n",
              " \n",
              "         ...,\n",
              " \n",
              " \n",
              "         [[[-0.7344, -0.6172, -0.3828,  ..., -0.0469, -0.5625, -0.6484],\n",
              "           [-0.7266, -0.7422, -0.4453,  ..., -0.1250, -0.0234, -0.0312],\n",
              "           [-0.7422, -0.7422, -0.5781,  ..., -0.5469, -0.5391, -0.5703],\n",
              "           ...,\n",
              "           [-0.6484, -0.6641, -0.6719,  ..., -0.1172, -0.1406, -0.1484],\n",
              "           [-0.7734, -0.7188, -0.6641,  ..., -0.1250, -0.1094, -0.0938],\n",
              "           [-0.7578, -0.7500, -0.7266,  ..., -0.0781, -0.0703, -0.0547]],\n",
              " \n",
              "          [[-0.7969, -0.6797, -0.4297,  ..., -0.0781, -0.5781, -0.6328],\n",
              "           [-0.7656, -0.7891, -0.4844,  ..., -0.1328, -0.0234, -0.0156],\n",
              "           [-0.7656, -0.7734, -0.5859,  ..., -0.5312, -0.5312, -0.5703],\n",
              "           ...,\n",
              "           [-0.8203, -0.8438, -0.8516,  ..., -0.0469, -0.0781, -0.0859],\n",
              "           [-0.7812, -0.7969, -0.7969,  ..., -0.0547, -0.0469, -0.0312],\n",
              "           [-0.7812, -0.7812, -0.7812,  ..., -0.0312, -0.0156,  0.0078]],\n",
              " \n",
              "          [[-0.7656, -0.6484, -0.3984,  ..., -0.1875, -0.6250, -0.6562],\n",
              "           [-0.7422, -0.7656, -0.4609,  ..., -0.1641, -0.0469, -0.0391],\n",
              "           [-0.7578, -0.7656, -0.5859,  ..., -0.5625, -0.5469, -0.5859],\n",
              "           ...,\n",
              "           [-0.8203, -0.8516, -0.8906,  ..., -0.0391, -0.0625, -0.0781],\n",
              "           [-0.8047, -0.8125, -0.8125,  ..., -0.0469, -0.0391, -0.0234],\n",
              "           [-0.8047, -0.8047, -0.7969,  ..., -0.0156, -0.0078,  0.0156]]],\n",
              " \n",
              " \n",
              "         [[[-0.6797, -0.4062, -0.5781,  ..., -0.0078, -0.5469, -0.6562],\n",
              "           [-0.7422, -0.5781, -0.6562,  ..., -0.0938,  0.0156,  0.0000],\n",
              "           [-0.7344, -0.6328, -0.6953,  ..., -0.5781, -0.5156, -0.5781],\n",
              "           ...,\n",
              "           [-0.5469,  0.2500,  0.4922,  ..., -0.0938, -0.0938, -0.1172],\n",
              "           [-0.6797, -0.6797, -0.5547,  ..., -0.1328, -0.1250, -0.1328],\n",
              "           [-0.7422, -0.6719, -0.6562,  ..., -0.1016, -0.1016, -0.0938]],\n",
              " \n",
              "          [[-0.7422, -0.4531, -0.6094,  ..., -0.0469, -0.5547, -0.6406],\n",
              "           [-0.7891, -0.6250, -0.6797,  ..., -0.1016,  0.0156,  0.0234],\n",
              "           [-0.7656, -0.6484, -0.7109,  ..., -0.5469, -0.5078, -0.5781],\n",
              "           ...,\n",
              "           [-0.7734,  0.0625,  0.3516,  ..., -0.0234, -0.0156, -0.0234],\n",
              "           [-0.8125, -0.8438, -0.7422,  ..., -0.0625, -0.0547, -0.0625],\n",
              "           [-0.7891, -0.7891, -0.8047,  ..., -0.0391, -0.0312, -0.0312]],\n",
              " \n",
              "          [[-0.7109, -0.4297, -0.6016,  ..., -0.1562, -0.6094, -0.6562],\n",
              "           [-0.7578, -0.5938, -0.6797,  ..., -0.1328, -0.0078,  0.0000],\n",
              "           [-0.7500, -0.6406, -0.7188,  ..., -0.5781, -0.5312, -0.5938],\n",
              "           ...,\n",
              "           [-0.7891,  0.0000,  0.2734,  ..., -0.0156, -0.0078, -0.0234],\n",
              "           [-0.8281, -0.8750, -0.7812,  ..., -0.0547, -0.0469, -0.0547],\n",
              "           [-0.8047, -0.7969, -0.8047,  ..., -0.0312, -0.0312, -0.0234]]],\n",
              " \n",
              " \n",
              "         [[[-0.7500, -0.5938, -0.6875,  ..., -0.3594, -0.4453,  0.0000],\n",
              "           [-0.6875, -0.6250, -0.7344,  ..., -0.1562, -0.0703, -0.4453],\n",
              "           [-0.6484, -0.6094, -0.6484,  ..., -0.5078, -0.6016, -0.3359],\n",
              "           ...,\n",
              "           [ 0.4688,  0.3750,  0.2891,  ..., -0.0938, -0.0703, -0.0781],\n",
              "           [-0.0781,  0.4062,  0.4766,  ..., -0.0938, -0.0625, -0.0547],\n",
              "           [-0.5391, -0.5625, -0.3281,  ..., -0.0859, -0.0703, -0.1016]],\n",
              " \n",
              "          [[-0.7812, -0.6094, -0.6797,  ..., -0.3672, -0.4688, -0.0547],\n",
              "           [-0.7109, -0.6328, -0.7109,  ..., -0.1719, -0.0859, -0.4609],\n",
              "           [-0.6328, -0.5781, -0.6016,  ..., -0.5391, -0.6250, -0.3594],\n",
              "           ...,\n",
              "           [ 0.3672,  0.3047,  0.2344,  ..., -0.0312, -0.0078, -0.0156],\n",
              "           [-0.2812,  0.2344,  0.3672,  ..., -0.0234,  0.0000,  0.0078],\n",
              "           [-0.7188, -0.7812, -0.5156,  ..., -0.0234,  0.0000, -0.0391]],\n",
              " \n",
              "          [[-0.7734, -0.6016, -0.6719,  ..., -0.5234, -0.6250, -0.2031],\n",
              "           [-0.7031, -0.6328, -0.7109,  ..., -0.2422, -0.1875, -0.5703],\n",
              "           [-0.6328, -0.5781, -0.6094,  ..., -0.5469, -0.6484, -0.4062],\n",
              "           ...,\n",
              "           [ 0.2656,  0.1719,  0.0859,  ..., -0.0156,  0.0000, -0.0078],\n",
              "           [-0.3438,  0.1406,  0.2422,  ..., -0.0234,  0.0078,  0.0156],\n",
              "           [-0.7422, -0.8047, -0.5781,  ..., -0.0156,  0.0078, -0.0234]]]],\n",
              "        device='cuda:0'), tensor(1, device='cuda:0'))"
            ]
          },
          "metadata": {
            "tags": []
          },
          "execution_count": 24
        }
      ]
    },
    {
      "cell_type": "markdown",
      "metadata": {
        "id": "qaRiUj9dl00O"
      },
      "source": [
        "## Model"
      ]
    },
    {
      "cell_type": "code",
      "metadata": {
        "id": "2lGr01Unl00P",
        "colab": {
          "base_uri": "https://localhost:8080/"
        },
        "outputId": "b5ef7fef-5800-47f0-ed92-497b478585ba"
      },
      "source": [
        "vgg = models.vgg19().features.cuda()\n",
        "input_dim = 128\n",
        "summary(vgg, (3, input_dim, input_dim))"
      ],
      "execution_count": 15,
      "outputs": [
        {
          "output_type": "stream",
          "text": [
            "----------------------------------------------------------------\n",
            "        Layer (type)               Output Shape         Param #\n",
            "================================================================\n",
            "            Conv2d-1         [-1, 64, 128, 128]           1,792\n",
            "              ReLU-2         [-1, 64, 128, 128]               0\n",
            "            Conv2d-3         [-1, 64, 128, 128]          36,928\n",
            "              ReLU-4         [-1, 64, 128, 128]               0\n",
            "         MaxPool2d-5           [-1, 64, 64, 64]               0\n",
            "            Conv2d-6          [-1, 128, 64, 64]          73,856\n",
            "              ReLU-7          [-1, 128, 64, 64]               0\n",
            "            Conv2d-8          [-1, 128, 64, 64]         147,584\n",
            "              ReLU-9          [-1, 128, 64, 64]               0\n",
            "        MaxPool2d-10          [-1, 128, 32, 32]               0\n",
            "           Conv2d-11          [-1, 256, 32, 32]         295,168\n",
            "             ReLU-12          [-1, 256, 32, 32]               0\n",
            "           Conv2d-13          [-1, 256, 32, 32]         590,080\n",
            "             ReLU-14          [-1, 256, 32, 32]               0\n",
            "           Conv2d-15          [-1, 256, 32, 32]         590,080\n",
            "             ReLU-16          [-1, 256, 32, 32]               0\n",
            "           Conv2d-17          [-1, 256, 32, 32]         590,080\n",
            "             ReLU-18          [-1, 256, 32, 32]               0\n",
            "        MaxPool2d-19          [-1, 256, 16, 16]               0\n",
            "           Conv2d-20          [-1, 512, 16, 16]       1,180,160\n",
            "             ReLU-21          [-1, 512, 16, 16]               0\n",
            "           Conv2d-22          [-1, 512, 16, 16]       2,359,808\n",
            "             ReLU-23          [-1, 512, 16, 16]               0\n",
            "           Conv2d-24          [-1, 512, 16, 16]       2,359,808\n",
            "             ReLU-25          [-1, 512, 16, 16]               0\n",
            "           Conv2d-26          [-1, 512, 16, 16]       2,359,808\n",
            "             ReLU-27          [-1, 512, 16, 16]               0\n",
            "        MaxPool2d-28            [-1, 512, 8, 8]               0\n",
            "           Conv2d-29            [-1, 512, 8, 8]       2,359,808\n",
            "             ReLU-30            [-1, 512, 8, 8]               0\n",
            "           Conv2d-31            [-1, 512, 8, 8]       2,359,808\n",
            "             ReLU-32            [-1, 512, 8, 8]               0\n",
            "           Conv2d-33            [-1, 512, 8, 8]       2,359,808\n",
            "             ReLU-34            [-1, 512, 8, 8]               0\n",
            "           Conv2d-35            [-1, 512, 8, 8]       2,359,808\n",
            "             ReLU-36            [-1, 512, 8, 8]               0\n",
            "        MaxPool2d-37            [-1, 512, 4, 4]               0\n",
            "================================================================\n",
            "Total params: 20,024,384\n",
            "Trainable params: 20,024,384\n",
            "Non-trainable params: 0\n",
            "----------------------------------------------------------------\n",
            "Input size (MB): 0.19\n",
            "Forward/backward pass size (MB): 77.81\n",
            "Params size (MB): 76.39\n",
            "Estimated Total Size (MB): 154.39\n",
            "----------------------------------------------------------------\n"
          ],
          "name": "stdout"
        }
      ]
    },
    {
      "cell_type": "code",
      "metadata": {
        "tags": [],
        "id": "czjso0Jzl00P",
        "colab": {
          "base_uri": "https://localhost:8080/"
        },
        "outputId": "ecc35eed-7efd-4383-fb9b-b346d7c6d692"
      },
      "source": [
        "class nnModel(nn.Module):\n",
        "\n",
        "    def __init__(self, input_size, hidden_size, cnn_output_size=512*4*4):\n",
        "        \"\"\"\n",
        "        Initialize NN architecture.\n",
        "\n",
        "        Hyperparameters\n",
        "        ----------\n",
        "        input_dim: int\n",
        "            Input size in LSTM.\n",
        "        hidden_dim: int\n",
        "            Hidden size in LSTM.\n",
        "        \"\"\"\n",
        "\n",
        "        super(nnModel, self).__init__()\n",
        "\n",
        "        self.input_size = cnn_output_size\n",
        "        self.hidden_size = hidden_size\n",
        "        self.lstm1 = nn.LSTMCell(input_size=self.input_size, hidden_size=self.hidden_size).cuda()\n",
        "        ##############################################################################\n",
        "        # TODO: Adjust CNN Model                                                     #\n",
        "        ##############################################################################\n",
        "        self.cnn = models.vgg19(pretrained=True).features.cuda()\n",
        "        ##############################################################################\n",
        "        # TODO: Adjust CNN output size base on the summary function above            #\n",
        "        ##############################################################################\n",
        "        self.cnn_output_size = cnn_output_size\n",
        "        self.fc_cnn_lstm = nn.Linear(self.cnn_output_size, self.input_size).cuda()\n",
        "        self.fc_lstm_output = nn.Linear(self.hidden_size, 2).cuda()\n",
        "\n",
        "\n",
        "    def init_weights(self):\n",
        "        \"\"\"Initializing lstm weights.\"\"\"\n",
        "        \"\"\"TODO: Adjust initialization.\"\"\"\n",
        "        nn.init.xavier_uniform_(self.lstm1.weight_ih, gain=1.0).cuda()\n",
        "        nn.init.xavier_uniform_(self.lstm1.weight_hh, gain=1.0).cuda()\n",
        "        nn.init.constant_(self.lstm1.bias_ih, 0.0).cuda()\n",
        "        nn.init.constant_(self.lstm1.bias_hh, 0.0).cuda()\n",
        "\n",
        "    def init_hidden(self, N):\n",
        "        \"\"\"Initializing hidden states and cell states.\"\"\"\n",
        "        h_0 = torch.zeros(N, self.hidden_size).cuda()\n",
        "        c_0 = torch.zeros(N, self.hidden_size).cuda()\n",
        "        return h_0, c_0\n",
        "\n",
        "    def forward(self, img_sequence):\n",
        "        N,T,d,x,y = img_sequence.shape  # N is batchsize T is timestep, d = 3\n",
        "        #print(\"img_sequence\",img_sequence.size())\n",
        "        # declaring the initial hidden states and cell states\n",
        "        h_t, c_t = self.init_hidden(N)\n",
        "\n",
        "        for i in range(T):\n",
        "            img = img_sequence[:,i,:,:,:]   #N*Cin*Hin*Win\n",
        "            #print(img.shape)\n",
        "            img_features = self.cnn(img).view(-1,self.cnn_output_size)    #N*Cout*Hout*Wout\n",
        "            i_t = self.fc_cnn_lstm(img_features)\n",
        "            h_t,c_t = self.lstm1(i_t,(h_t,c_t))\n",
        "            #h_t,c_t = self.lstm1(img_features,(h_t,c_t))\n",
        "            \n",
        "        output = self.fc_lstm_output(h_t)\n",
        "\n",
        "        return output\n",
        "\n",
        "        # NOTE: Optional bbox sequence data\n",
        "        # input_size2 = hidden_size1\n",
        "        # hidden_size2 = hidden_size2\n",
        "        # lstm2 = nn.LSTMCell(input_size=input_size2,hidden_size=hidden_size2)\n",
        "        # h_t=c_t = torch.zeros(N, hidden_size2)#\n",
        "        # for i in range(T):\n",
        "        # input = (h + bbox_sequence[:,-i,:,:,:]).view(N,-1)\n",
        "        # h_t,c_t = lstm(input,(h_t,c_t))\n",
        "\n",
        "\n",
        "##############################################################################\n",
        "# TODO: Adjust Input_size and hidden_size here                               #\n",
        "##############################################################################\n",
        "model = nnModel(32 , 128).cuda()#.to(device)\n",
        "criterion = nn.CrossEntropyLoss().cuda() # Specify the loss layer\n",
        "print('Your network:')\n",
        "print(model)\n",
        "#print(summary(model, (BATCH_SIZE,SEQUENCE_SIZE,3,128,128))) # visualize your model "
      ],
      "execution_count": 39,
      "outputs": [
        {
          "output_type": "stream",
          "text": [
            "Your network:\n",
            "nnModel(\n",
            "  (lstm1): LSTMCell(8192, 128)\n",
            "  (cnn): Sequential(\n",
            "    (0): Conv2d(3, 64, kernel_size=(3, 3), stride=(1, 1), padding=(1, 1))\n",
            "    (1): ReLU(inplace=True)\n",
            "    (2): Conv2d(64, 64, kernel_size=(3, 3), stride=(1, 1), padding=(1, 1))\n",
            "    (3): ReLU(inplace=True)\n",
            "    (4): MaxPool2d(kernel_size=2, stride=2, padding=0, dilation=1, ceil_mode=False)\n",
            "    (5): Conv2d(64, 128, kernel_size=(3, 3), stride=(1, 1), padding=(1, 1))\n",
            "    (6): ReLU(inplace=True)\n",
            "    (7): Conv2d(128, 128, kernel_size=(3, 3), stride=(1, 1), padding=(1, 1))\n",
            "    (8): ReLU(inplace=True)\n",
            "    (9): MaxPool2d(kernel_size=2, stride=2, padding=0, dilation=1, ceil_mode=False)\n",
            "    (10): Conv2d(128, 256, kernel_size=(3, 3), stride=(1, 1), padding=(1, 1))\n",
            "    (11): ReLU(inplace=True)\n",
            "    (12): Conv2d(256, 256, kernel_size=(3, 3), stride=(1, 1), padding=(1, 1))\n",
            "    (13): ReLU(inplace=True)\n",
            "    (14): Conv2d(256, 256, kernel_size=(3, 3), stride=(1, 1), padding=(1, 1))\n",
            "    (15): ReLU(inplace=True)\n",
            "    (16): Conv2d(256, 256, kernel_size=(3, 3), stride=(1, 1), padding=(1, 1))\n",
            "    (17): ReLU(inplace=True)\n",
            "    (18): MaxPool2d(kernel_size=2, stride=2, padding=0, dilation=1, ceil_mode=False)\n",
            "    (19): Conv2d(256, 512, kernel_size=(3, 3), stride=(1, 1), padding=(1, 1))\n",
            "    (20): ReLU(inplace=True)\n",
            "    (21): Conv2d(512, 512, kernel_size=(3, 3), stride=(1, 1), padding=(1, 1))\n",
            "    (22): ReLU(inplace=True)\n",
            "    (23): Conv2d(512, 512, kernel_size=(3, 3), stride=(1, 1), padding=(1, 1))\n",
            "    (24): ReLU(inplace=True)\n",
            "    (25): Conv2d(512, 512, kernel_size=(3, 3), stride=(1, 1), padding=(1, 1))\n",
            "    (26): ReLU(inplace=True)\n",
            "    (27): MaxPool2d(kernel_size=2, stride=2, padding=0, dilation=1, ceil_mode=False)\n",
            "    (28): Conv2d(512, 512, kernel_size=(3, 3), stride=(1, 1), padding=(1, 1))\n",
            "    (29): ReLU(inplace=True)\n",
            "    (30): Conv2d(512, 512, kernel_size=(3, 3), stride=(1, 1), padding=(1, 1))\n",
            "    (31): ReLU(inplace=True)\n",
            "    (32): Conv2d(512, 512, kernel_size=(3, 3), stride=(1, 1), padding=(1, 1))\n",
            "    (33): ReLU(inplace=True)\n",
            "    (34): Conv2d(512, 512, kernel_size=(3, 3), stride=(1, 1), padding=(1, 1))\n",
            "    (35): ReLU(inplace=True)\n",
            "    (36): MaxPool2d(kernel_size=2, stride=2, padding=0, dilation=1, ceil_mode=False)\n",
            "  )\n",
            "  (fc_cnn_lstm): Linear(in_features=8192, out_features=8192, bias=True)\n",
            "  (fc_lstm_output): Linear(in_features=128, out_features=2, bias=True)\n",
            ")\n"
          ],
          "name": "stdout"
        }
      ]
    },
    {
      "cell_type": "markdown",
      "metadata": {
        "id": "we3bK0YAl00Q"
      },
      "source": [
        "## Training"
      ]
    },
    {
      "cell_type": "code",
      "metadata": {
        "id": "_OHGrLzUl00R"
      },
      "source": [
        "lr = 1e-5\n",
        "weight_decay = 1e-3\n",
        "num_epoch = 10\n",
        "optimizer = optim.Adam(model.parameters(), lr=lr,\n",
        "                       weight_decay=weight_decay)\n"
      ],
      "execution_count": 40,
      "outputs": []
    },
    {
      "cell_type": "code",
      "metadata": {
        "id": "4wNAzc1ml00S",
        "colab": {
          "base_uri": "https://localhost:8080/"
        },
        "outputId": "9a1974e7-ec4b-43d9-cf55-f1da42834012"
      },
      "source": [
        "# %%time\n",
        "def train(model,trainloader, valloader, num_epoch = 10): # Train the model\n",
        "  print(\"Srain(model, tart training...\")\n",
        "  trn_loss_hist = []\n",
        "  trn_acc_hist = []\n",
        "  val_acc_hist = []\n",
        "  model.train() # Set the model to training mode\n",
        "  for i in range(num_epoch):\n",
        "    running_loss = []\n",
        "    print('-----------------Epoch = %d-----------------' % (i+1))\n",
        "    for batch, label in tqdm(trainloader):\n",
        "      batch = batch.to(device)\n",
        "      label = label.to(device)\n",
        "      #print(\"batch\",batch.size())\n",
        "      optimizer.zero_grad() # Clear gradients from the previous iteration\n",
        "      pred = model(batch) # This will call Network.forward() that you implement\n",
        "      loss = criterion(pred, label) # Calculate the loss\n",
        "      running_loss.append(loss.item())\n",
        "      loss.backward() # Backprop gradients to all tensors in the network\n",
        "      optimizer.step() # Update trainable weights\n",
        "    print(\"\\n Epoch {} loss:{}\".format(i+1,np.mean(running_loss)))\n",
        "\n",
        "    # Keep track of training loss, accuracy, and validation loss\n",
        "    trn_loss_hist.append(np.mean(running_loss))\n",
        "    trn_acc_hist.append(evaluate(model, trainloader))\n",
        "    print(\"\\n Evaluate on validation set...\")\n",
        "    val_acc_hist.append(evaluate(model, valloader))\n",
        "  print(\"Done!\")\n",
        "  return trn_loss_hist, trn_acc_hist, val_acc_hist\n",
        "\n",
        "def evaluate(model, loader): # Evaluate accuracy on validation / test set\n",
        "  model.eval() # Set the model to evaluation mode\n",
        "  correct = 0\n",
        "  with torch.no_grad(): # Do not calculate grident to speed up computation\n",
        "    for batch, label in tqdm(loader):\n",
        "      batch = batch.to(device)\n",
        "      label = label.to(device)\n",
        "      pred = model(batch)\n",
        "      correct += (torch.argmax(pred,dim=1)==label).sum().item()\n",
        "    acc = correct/len(loader.dataset)\n",
        "    print(\"\\n Evaluation accuracy: {}\".format(acc))\n",
        "    return acc\n",
        "    \n",
        "trn_loss_hist, trn_acc_hist, val_acc_hist = train(model, train_loader, \n",
        "                                                  val_loader, num_epoch)\n",
        "\n",
        "##############################################################################\n",
        "# TODO: Note down the evaluation accuracy on test set                        #\n",
        "##############################################################################\n",
        "print(\"\\n Evaluate on test set\")\n",
        "evaluate(model, test_loader);"
      ],
      "execution_count": 41,
      "outputs": [
        {
          "output_type": "stream",
          "text": [
            "\r  0%|          | 0/10 [00:00<?, ?it/s]"
          ],
          "name": "stderr"
        },
        {
          "output_type": "stream",
          "text": [
            "Srain(model, tart training...\n",
            "-----------------Epoch = 1-----------------\n"
          ],
          "name": "stdout"
        },
        {
          "output_type": "stream",
          "text": [
            "100%|██████████| 10/10 [00:15<00:00,  1.59s/it]\n",
            "  0%|          | 0/10 [00:00<?, ?it/s]"
          ],
          "name": "stderr"
        },
        {
          "output_type": "stream",
          "text": [
            "\n",
            " Epoch 1 loss:0.574493271112442\n"
          ],
          "name": "stdout"
        },
        {
          "output_type": "stream",
          "text": [
            "100%|██████████| 10/10 [00:05<00:00,  1.70it/s]\n",
            "  0%|          | 0/8 [00:00<?, ?it/s]"
          ],
          "name": "stderr"
        },
        {
          "output_type": "stream",
          "text": [
            "\n",
            " Evaluation accuracy: 0.8\n",
            "\n",
            " Evaluate on validation set...\n"
          ],
          "name": "stdout"
        },
        {
          "output_type": "stream",
          "text": [
            "100%|██████████| 8/8 [00:04<00:00,  1.72it/s]\n",
            "  0%|          | 0/10 [00:00<?, ?it/s]"
          ],
          "name": "stderr"
        },
        {
          "output_type": "stream",
          "text": [
            "\n",
            " Evaluation accuracy: 0.7625\n",
            "-----------------Epoch = 2-----------------\n"
          ],
          "name": "stdout"
        },
        {
          "output_type": "stream",
          "text": [
            "100%|██████████| 10/10 [00:16<00:00,  1.66s/it]\n",
            "  0%|          | 0/10 [00:00<?, ?it/s]"
          ],
          "name": "stderr"
        },
        {
          "output_type": "stream",
          "text": [
            "\n",
            " Epoch 2 loss:0.3047702983021736\n"
          ],
          "name": "stdout"
        },
        {
          "output_type": "stream",
          "text": [
            "100%|██████████| 10/10 [00:06<00:00,  1.67it/s]\n",
            "  0%|          | 0/8 [00:00<?, ?it/s]"
          ],
          "name": "stderr"
        },
        {
          "output_type": "stream",
          "text": [
            "\n",
            " Evaluation accuracy: 0.92\n",
            "\n",
            " Evaluate on validation set...\n"
          ],
          "name": "stdout"
        },
        {
          "output_type": "stream",
          "text": [
            "100%|██████████| 8/8 [00:04<00:00,  1.74it/s]\n",
            "  0%|          | 0/10 [00:00<?, ?it/s]"
          ],
          "name": "stderr"
        },
        {
          "output_type": "stream",
          "text": [
            "\n",
            " Evaluation accuracy: 0.7875\n",
            "-----------------Epoch = 3-----------------\n"
          ],
          "name": "stdout"
        },
        {
          "output_type": "stream",
          "text": [
            "100%|██████████| 10/10 [00:16<00:00,  1.61s/it]\n",
            "  0%|          | 0/10 [00:00<?, ?it/s]"
          ],
          "name": "stderr"
        },
        {
          "output_type": "stream",
          "text": [
            "\n",
            " Epoch 3 loss:0.18169854506850242\n"
          ],
          "name": "stdout"
        },
        {
          "output_type": "stream",
          "text": [
            "100%|██████████| 10/10 [00:05<00:00,  1.74it/s]\n",
            "  0%|          | 0/8 [00:00<?, ?it/s]"
          ],
          "name": "stderr"
        },
        {
          "output_type": "stream",
          "text": [
            "\n",
            " Evaluation accuracy: 0.98\n",
            "\n",
            " Evaluate on validation set...\n"
          ],
          "name": "stdout"
        },
        {
          "output_type": "stream",
          "text": [
            "100%|██████████| 8/8 [00:04<00:00,  1.79it/s]\n",
            "  0%|          | 0/10 [00:00<?, ?it/s]"
          ],
          "name": "stderr"
        },
        {
          "output_type": "stream",
          "text": [
            "\n",
            " Evaluation accuracy: 0.7875\n",
            "-----------------Epoch = 4-----------------\n"
          ],
          "name": "stdout"
        },
        {
          "output_type": "stream",
          "text": [
            "100%|██████████| 10/10 [00:15<00:00,  1.60s/it]\n",
            "  0%|          | 0/10 [00:00<?, ?it/s]"
          ],
          "name": "stderr"
        },
        {
          "output_type": "stream",
          "text": [
            "\n",
            " Epoch 4 loss:0.09875723682343959\n"
          ],
          "name": "stdout"
        },
        {
          "output_type": "stream",
          "text": [
            "100%|██████████| 10/10 [00:05<00:00,  1.72it/s]\n",
            "  0%|          | 0/8 [00:00<?, ?it/s]"
          ],
          "name": "stderr"
        },
        {
          "output_type": "stream",
          "text": [
            "\n",
            " Evaluation accuracy: 1.0\n",
            "\n",
            " Evaluate on validation set...\n"
          ],
          "name": "stdout"
        },
        {
          "output_type": "stream",
          "text": [
            "100%|██████████| 8/8 [00:04<00:00,  1.77it/s]\n",
            "  0%|          | 0/10 [00:00<?, ?it/s]"
          ],
          "name": "stderr"
        },
        {
          "output_type": "stream",
          "text": [
            "\n",
            " Evaluation accuracy: 0.7875\n",
            "-----------------Epoch = 5-----------------\n"
          ],
          "name": "stdout"
        },
        {
          "output_type": "stream",
          "text": [
            "100%|██████████| 10/10 [00:16<00:00,  1.62s/it]\n",
            "  0%|          | 0/10 [00:00<?, ?it/s]"
          ],
          "name": "stderr"
        },
        {
          "output_type": "stream",
          "text": [
            "\n",
            " Epoch 5 loss:0.06059378255158663\n"
          ],
          "name": "stdout"
        },
        {
          "output_type": "stream",
          "text": [
            "100%|██████████| 10/10 [00:05<00:00,  1.70it/s]\n",
            "  0%|          | 0/8 [00:00<?, ?it/s]"
          ],
          "name": "stderr"
        },
        {
          "output_type": "stream",
          "text": [
            "\n",
            " Evaluation accuracy: 1.0\n",
            "\n",
            " Evaluate on validation set...\n"
          ],
          "name": "stdout"
        },
        {
          "output_type": "stream",
          "text": [
            "100%|██████████| 8/8 [00:04<00:00,  1.76it/s]\n",
            "  0%|          | 0/10 [00:00<?, ?it/s]"
          ],
          "name": "stderr"
        },
        {
          "output_type": "stream",
          "text": [
            "\n",
            " Evaluation accuracy: 0.8\n",
            "-----------------Epoch = 6-----------------\n"
          ],
          "name": "stdout"
        },
        {
          "output_type": "stream",
          "text": [
            "100%|██████████| 10/10 [00:16<00:00,  1.62s/it]\n",
            "  0%|          | 0/10 [00:00<?, ?it/s]"
          ],
          "name": "stderr"
        },
        {
          "output_type": "stream",
          "text": [
            "\n",
            " Epoch 6 loss:0.03851166367530823\n"
          ],
          "name": "stdout"
        },
        {
          "output_type": "stream",
          "text": [
            "100%|██████████| 10/10 [00:05<00:00,  1.70it/s]\n",
            "  0%|          | 0/8 [00:00<?, ?it/s]"
          ],
          "name": "stderr"
        },
        {
          "output_type": "stream",
          "text": [
            "\n",
            " Evaluation accuracy: 1.0\n",
            "\n",
            " Evaluate on validation set...\n"
          ],
          "name": "stdout"
        },
        {
          "output_type": "stream",
          "text": [
            "100%|██████████| 8/8 [00:04<00:00,  1.76it/s]\n",
            "  0%|          | 0/10 [00:00<?, ?it/s]"
          ],
          "name": "stderr"
        },
        {
          "output_type": "stream",
          "text": [
            "\n",
            " Evaluation accuracy: 0.7875\n",
            "-----------------Epoch = 7-----------------\n"
          ],
          "name": "stdout"
        },
        {
          "output_type": "stream",
          "text": [
            "100%|██████████| 10/10 [00:16<00:00,  1.62s/it]\n",
            "  0%|          | 0/10 [00:00<?, ?it/s]"
          ],
          "name": "stderr"
        },
        {
          "output_type": "stream",
          "text": [
            "\n",
            " Epoch 7 loss:0.026752095855772495\n"
          ],
          "name": "stdout"
        },
        {
          "output_type": "stream",
          "text": [
            "100%|██████████| 10/10 [00:05<00:00,  1.70it/s]\n",
            "  0%|          | 0/8 [00:00<?, ?it/s]"
          ],
          "name": "stderr"
        },
        {
          "output_type": "stream",
          "text": [
            "\n",
            " Evaluation accuracy: 1.0\n",
            "\n",
            " Evaluate on validation set...\n"
          ],
          "name": "stdout"
        },
        {
          "output_type": "stream",
          "text": [
            "100%|██████████| 8/8 [00:04<00:00,  1.76it/s]\n",
            "  0%|          | 0/10 [00:00<?, ?it/s]"
          ],
          "name": "stderr"
        },
        {
          "output_type": "stream",
          "text": [
            "\n",
            " Evaluation accuracy: 0.7875\n",
            "-----------------Epoch = 8-----------------\n"
          ],
          "name": "stdout"
        },
        {
          "output_type": "stream",
          "text": [
            "100%|██████████| 10/10 [00:16<00:00,  1.62s/it]\n",
            "  0%|          | 0/10 [00:00<?, ?it/s]"
          ],
          "name": "stderr"
        },
        {
          "output_type": "stream",
          "text": [
            "\n",
            " Epoch 8 loss:0.021414404455572366\n"
          ],
          "name": "stdout"
        },
        {
          "output_type": "stream",
          "text": [
            "100%|██████████| 10/10 [00:05<00:00,  1.71it/s]\n",
            "  0%|          | 0/8 [00:00<?, ?it/s]"
          ],
          "name": "stderr"
        },
        {
          "output_type": "stream",
          "text": [
            "\n",
            " Evaluation accuracy: 1.0\n",
            "\n",
            " Evaluate on validation set...\n"
          ],
          "name": "stdout"
        },
        {
          "output_type": "stream",
          "text": [
            "100%|██████████| 8/8 [00:04<00:00,  1.77it/s]\n",
            "  0%|          | 0/10 [00:00<?, ?it/s]"
          ],
          "name": "stderr"
        },
        {
          "output_type": "stream",
          "text": [
            "\n",
            " Evaluation accuracy: 0.7875\n",
            "-----------------Epoch = 9-----------------\n"
          ],
          "name": "stdout"
        },
        {
          "output_type": "stream",
          "text": [
            "100%|██████████| 10/10 [00:16<00:00,  1.61s/it]\n",
            "  0%|          | 0/10 [00:00<?, ?it/s]"
          ],
          "name": "stderr"
        },
        {
          "output_type": "stream",
          "text": [
            "\n",
            " Epoch 9 loss:0.01742248716764152\n"
          ],
          "name": "stdout"
        },
        {
          "output_type": "stream",
          "text": [
            "100%|██████████| 10/10 [00:05<00:00,  1.72it/s]\n",
            "  0%|          | 0/8 [00:00<?, ?it/s]"
          ],
          "name": "stderr"
        },
        {
          "output_type": "stream",
          "text": [
            "\n",
            " Evaluation accuracy: 1.0\n",
            "\n",
            " Evaluate on validation set...\n"
          ],
          "name": "stdout"
        },
        {
          "output_type": "stream",
          "text": [
            "100%|██████████| 8/8 [00:04<00:00,  1.77it/s]\n",
            "  0%|          | 0/10 [00:00<?, ?it/s]"
          ],
          "name": "stderr"
        },
        {
          "output_type": "stream",
          "text": [
            "\n",
            " Evaluation accuracy: 0.7875\n",
            "-----------------Epoch = 10-----------------\n"
          ],
          "name": "stdout"
        },
        {
          "output_type": "stream",
          "text": [
            "100%|██████████| 10/10 [00:16<00:00,  1.62s/it]\n",
            "  0%|          | 0/10 [00:00<?, ?it/s]"
          ],
          "name": "stderr"
        },
        {
          "output_type": "stream",
          "text": [
            "\n",
            " Epoch 10 loss:0.014918326493352651\n"
          ],
          "name": "stdout"
        },
        {
          "output_type": "stream",
          "text": [
            "100%|██████████| 10/10 [00:05<00:00,  1.70it/s]\n",
            "  0%|          | 0/8 [00:00<?, ?it/s]"
          ],
          "name": "stderr"
        },
        {
          "output_type": "stream",
          "text": [
            "\n",
            " Evaluation accuracy: 1.0\n",
            "\n",
            " Evaluate on validation set...\n"
          ],
          "name": "stdout"
        },
        {
          "output_type": "stream",
          "text": [
            "100%|██████████| 8/8 [00:04<00:00,  1.76it/s]\n",
            "  0%|          | 0/2 [00:00<?, ?it/s]"
          ],
          "name": "stderr"
        },
        {
          "output_type": "stream",
          "text": [
            "\n",
            " Evaluation accuracy: 0.7875\n",
            "Done!\n",
            "\n",
            " Evaluate on test set\n"
          ],
          "name": "stdout"
        },
        {
          "output_type": "stream",
          "text": [
            "100%|██████████| 2/2 [00:01<00:00,  1.75it/s]"
          ],
          "name": "stderr"
        },
        {
          "output_type": "stream",
          "text": [
            "\n",
            " Evaluation accuracy: 0.6\n"
          ],
          "name": "stdout"
        },
        {
          "output_type": "stream",
          "text": [
            "\n"
          ],
          "name": "stderr"
        }
      ]
    },
    {
      "cell_type": "code",
      "metadata": {
        "id": "U6zqBgJbl00S",
        "colab": {
          "base_uri": "https://localhost:8080/",
          "height": 350
        },
        "outputId": "6541d6b6-59bb-4c42-b687-a562b6d9ed12"
      },
      "source": [
        "##############################################################################\n",
        "# TODO: Submit the accuracy plot                                             #\n",
        "##############################################################################\n",
        "# visualize the training / validation accuracies\n",
        "x = np.arange(num_epoch)\n",
        "# train/val accuracies for MiniVGG\n",
        "plt.figure()\n",
        "plt.plot(x, trn_acc_hist)\n",
        "plt.plot(x, val_acc_hist)\n",
        "plt.legend(['Training', 'Validation'])\n",
        "plt.xticks(x)\n",
        "plt.xlabel('Epoch')\n",
        "plt.ylabel('Accuracy')\n",
        "plt.title('fashion MNIST Classification')\n",
        "plt.gcf().set_size_inches(10, 5)\n",
        "plt.show()"
      ],
      "execution_count": 42,
      "outputs": [
        {
          "output_type": "display_data",
          "data": {
            "image/png": "[encoded data removed]",
            "text/plain": [
              "<Figure size 720x360 with 1 Axes>"
            ]
          },
          "metadata": {
            "tags": [],
            "needs_background": "light"
          }
        }
      ]
    }
  ]
}