{
  "nbformat": 4,
  "nbformat_minor": 0,
  "metadata": {
    "language_info": {
      "codemirror_mode": {
        "name": "ipython",
        "version": 3
      },
      "file_extension": ".py",
      "mimetype": "text/x-python",
      "name": "python",
      "nbconvert_exporter": "python",
      "pygments_lexer": "ipython3",
      "version": "3.8.5"
    },
    "orig_nbformat": 2,
    "kernelspec": {
      "name": "python385jvsc74a57bd0916dbcbb3f70747c44a77c7bcd40155683ae19c65e1c03b4aa3499c5328201f1",
      "display_name": "Python 3.8.5 64-bit"
    },
    "metadata": {
      "interpreter": {
        "hash": "916dbcbb3f70747c44a77c7bcd40155683ae19c65e1c03b4aa3499c5328201f1"
      }
    },
    "colab": {
      "name": "Resnet_PIE_training.ipynb",
      "provenance": [],
      "collapsed_sections": [],
      "toc_visible": true
    },
    "accelerator": "GPU"
  },
  "cells": [
    {
      "cell_type": "markdown",
      "metadata": {
        "id": "rWB5GR2Vl00C"
      },
      "source": [
        "# PIE TRAINING"
      ]
    },
    {
      "cell_type": "code",
      "metadata": {
        "colab": {
          "base_uri": "https://localhost:8080/"
        },
        "id": "CSZff1sJ6men",
        "outputId": "22364d64-b446-46a8-f4ae-73e596fd8b00"
      },
      "source": [
        "from google.colab import drive\n",
        "drive.mount('/content/drive')"
      ],
      "execution_count": null,
      "outputs": [
        {
          "output_type": "stream",
          "text": [
            "Mounted at /content/drive\n"
          ],
          "name": "stdout"
        }
      ]
    },
    {
      "cell_type": "markdown",
      "metadata": {
        "id": "EdxFk84_l00K"
      },
      "source": [
        "## Setup"
      ]
    },
    {
      "cell_type": "code",
      "metadata": {
        "id": "NABBRcFul00L"
      },
      "source": [
        "import os\n",
        "os.chdir('/content/drive/Shareddrives/eecs442/PIE_PACK')\n",
        "from pie_data import PIE\n",
        "import torch\n",
        "import torchvision\n",
        "import torch.nn as nn\n",
        "import torch.optim as optim\n",
        "import torchvision.models as models\n",
        "import pickle\n",
        "import cv2\n",
        "import sys\n",
        "\n",
        "import xml.etree.ElementTree as ET\n",
        "import numpy as np\n",
        "\n",
        "from os.path import join, abspath, isfile, isdir\n",
        "from os import makedirs, listdir\n",
        "from sklearn.model_selection import train_test_split, KFold\n",
        "from matplotlib import pyplot as plt\n",
        "import pylab\n",
        "from torch.utils.data import DataLoader\n",
        "from torchvision import datasets, models, transforms\n",
        "from torch.utils.data.dataset import Dataset\n",
        "from torchsummary import summary\n",
        "from tqdm import tqdm\n",
        "import pandas as pd\n",
        "import math\n",
        "import random"
      ],
      "execution_count": null,
      "outputs": []
    },
    {
      "cell_type": "code",
      "metadata": {
        "colab": {
          "base_uri": "https://localhost:8080/"
        },
        "id": "18x-JBDFl00M",
        "outputId": "09b30a9a-e3fa-43a9-8147-7d8694511a73"
      },
      "source": [
        "if torch.cuda.is_available():\n",
        "    print(\"Using the GPU. You are good to go!\")\n",
        "    device = torch.device('cuda:0')\n",
        "else:\n",
        "    raise Exception(\"WARNING: Could not find GPU! Using CPU only. \\\n",
        "To enable GPU, please to go Edit > Notebook Settings > Hardware \\\n",
        "Accelerator and select GPU.\")"
      ],
      "execution_count": null,
      "outputs": [
        {
          "output_type": "stream",
          "text": [
            "Using the GPU. You are good to go!\n"
          ],
          "name": "stdout"
        }
      ]
    },
    {
      "cell_type": "code",
      "metadata": {
        "id": "t9J7T4OAl00N"
      },
      "source": [
        "##############################################################################\n",
        "# TODO: Adjust Sequence size and batch_size for loaders                      #\n",
        "##############################################################################\n",
        "SEQUENCE_SIZE = 20\n",
        "BATCH_SIZE = 10\n",
        "pie_path = '.'\n",
        "imdb = PIE(data_path=pie_path, regen_database=True, include_set=\"1,2,5,6\", frinterval=1, downsample=1600)"
      ],
      "execution_count": null,
      "outputs": []
    },
    {
      "cell_type": "markdown",
      "metadata": {
        "id": "CNS7hINyl00N"
      },
      "source": [
        "## Dataset"
      ]
    },
    {
      "cell_type": "code",
      "metadata": {
        "colab": {
          "base_uri": "https://localhost:8080/"
        },
        "id": "4V2_0rSkl00O",
        "outputId": "8130d878-3b33-4bf8-e0d3-3cb755a2f10b"
      },
      "source": [
        "class PedDataset(Dataset):\n",
        "    def __init__(self, ped_personal_images_intention, data_range=(0, 1)):\n",
        "        self.dataset = ped_personal_images_intention[data_range[0]:data_range[1]]\n",
        "        for index in range(len(self.dataset)):\n",
        "          self.dataset[index]=(self.dataset[index][0],self.dataset[index][1])\n",
        "        print(\"load dataset done\")\n",
        "\n",
        "    def __len__(self):\n",
        "        return len(self.dataset)\n",
        "\n",
        "    def __getitem__(self, index):\n",
        "        img_seq, label = self.dataset[index]\n",
        "        seq_tensor = torch.stack(img_seq).cuda()\n",
        "        label = int(label > 0.5)\n",
        "        return torch.cuda.FloatTensor(seq_tensor), torch.tensor(label).cuda()\n",
        "\n",
        "\n",
        "\n",
        "\n",
        "class PedDataset(Dataset):\n",
        "    def __init__(self, ped_personal_images_intention, data_range=(0, 1)):\n",
        "        self.dataset = ped_personal_images_intention[data_range[0]:data_range[1]]\n",
        "        for index in range(len(self.dataset)):\n",
        "          self.dataset[index]=(self.dataset[index][0],self.dataset[index][1])\n",
        "        print(\"load dataset done\")\n",
        "\n",
        "    def __len__(self):\n",
        "        return len(self.dataset)\n",
        "\n",
        "    def __getitem__(self, index):\n",
        "        img_seq, label = self.dataset[index]\n",
        "        seq_tensor = torch.stack(img_seq).cuda()\n",
        "        label = int(label > 0.5)\n",
        "        return torch.cuda.FloatTensor(seq_tensor), torch.tensor(label).cuda()\n",
        "\n",
        "def get_ped_images_and_intention_v_colab(sequence_size=10, shuffle=True):\n",
        "    ped_personal_intention_prob = pd.read_csv(\"ped_personal_intention_prob.csv\")\n",
        "    ped_personal_images_intention = []\n",
        "    start = False\n",
        "    for root, dirs, files in os.walk(imdb._input_path):\n",
        "        print(root,len(ped_personal_images_intention))\n",
        "        if start:\n",
        "            temp_dir = []\n",
        "            index_file = 0\n",
        "            sequence_index = 0\n",
        "            num_files = len(os.listdir(root))\n",
        "            if num_files < sequence_size:\n",
        "                continue\n",
        "            files[:] = [int(float(x[:-4])) for x in files]\n",
        "            index_file = sorted(files)[0]\n",
        "            while sequence_index <sequence_size:\n",
        "                temp_dir.append((torch.from_numpy(cv2.imread(join(root, str(index_file)+\".png\")).astype(\"f\").transpose(2, 0, 1) / 128.0 - 1.0)))\n",
        "                index_file += 2*int(math.floor(num_files / sequence_size))\n",
        "                sequence_index += 1                    \n",
        "            # print(ped_personal_intention_prob[root[8:]])\n",
        "            ped_personal_images_intention.append((temp_dir, float(ped_personal_intention_prob[root[8:]])))\n",
        "        else:\n",
        "            start = True\n",
        "        \n",
        "    num_available_peds = len(ped_personal_images_intention)\n",
        "    print(num_available_peds)\n",
        "    if shuffle:\n",
        "        random.shuffle(ped_personal_images_intention)\n",
        "    return ped_personal_images_intention, num_available_peds\n",
        "\n",
        "ped_personal_images_intention, num_available_peds = get_ped_images_and_intention_v_colab(sequence_size=SEQUENCE_SIZE, shuffle=True)\n",
        "train_data = PedDataset(ped_personal_images_intention, data_range=(0, 200))\n",
        "train_loader = DataLoader(train_data, batch_size=BATCH_SIZE, shuffle=True)\n",
        "#TODO: Checkout the shuffle option for the DataLoader function\n",
        "val_data = PedDataset(ped_personal_images_intention, data_range=(200, 360))\n",
        "val_loader = DataLoader(val_data, batch_size=BATCH_SIZE, shuffle=True)\n",
        "test_data = PedDataset(ped_personal_images_intention, data_range=(360, 400))\n",
        "test_loader = DataLoader(test_data, batch_size=BATCH_SIZE, shuffle=True)\n",
        "# test_data.__getitem__(0)"
      ],
      "execution_count": null,
      "outputs": [
        {
          "output_type": "stream",
          "text": [
            "./input 0\n",
            "./input/5_2_1750 0\n",
            "./input/5_2_1751 1\n",
            "./input/5_2_1752 2\n",
            "./input/5_1_1747 3\n",
            "./input/5_1_1748 4\n",
            "./input/5_1_1749 4\n",
            "./input/5_1_1746 5\n",
            "./input/5_1_1744 6\n",
            "./input/5_1_1742 7\n",
            "./input/5_1_1745 8\n",
            "./input/5_1_1740 9\n",
            "./input/5_1_1739 9\n",
            "./input/5_1_1741 9\n",
            "./input/2_3_215 10\n",
            "./input/5_1_1731 11\n",
            "./input/2_3_217 12\n",
            "./input/5_1_1732 13\n",
            "./input/2_3_216 14\n",
            "./input/2_3_214 15\n",
            "./input/5_1_1733 16\n",
            "./input/2_3_212 17\n",
            "./input/2_3_211 18\n",
            "./input/2_3_213 19\n",
            "./input/2_3_207 20\n",
            "./input/2_3_205 21\n",
            "./input/2_3_208 22\n",
            "./input/2_3_210 23\n",
            "./input/2_3_206 24\n",
            "./input/2_3_204 25\n",
            "./input/2_3_209 26\n",
            "./input/2_3_203 27\n",
            "./input/2_3_201 28\n",
            "./input/2_3_202 29\n",
            "./input/2_3_197 30\n",
            "./input/2_3_198 31\n",
            "./input/2_3_194 32\n",
            "./input/2_3_200 33\n",
            "./input/2_3_195 34\n",
            "./input/2_3_199 35\n",
            "./input/2_3_196 36\n",
            "./input/2_2_191 37\n",
            "./input/2_2_193 38\n",
            "./input/2_2_192 39\n",
            "./input/2_2_186 40\n",
            "./input/2_2_185 41\n",
            "./input/2_2_190 42\n",
            "./input/2_2_188 43\n",
            "./input/2_2_187 44\n",
            "./input/2_2_184 45\n",
            "./input/2_2_189 46\n",
            "./input/2_2_183 47\n",
            "./input/2_2_182 48\n",
            "./input/2_2_181 49\n",
            "./input/2_2_176 50\n",
            "./input/2_2_178 51\n",
            "./input/2_2_180 52\n",
            "./input/2_2_177 53\n",
            "./input/2_2_179 54\n",
            "./input/2_2_175 55\n",
            "./input/2_2_174 56\n",
            "./input/2_2_172 57\n",
            "./input/2_2_171 58\n",
            "./input/2_2_173 59\n",
            "./input/2_2_164 60\n",
            "./input/2_2_165 61\n",
            "./input/2_2_167 62\n",
            "./input/2_2_166 63\n",
            "./input/2_2_169 64\n",
            "./input/2_2_170 65\n",
            "./input/2_2_168 66\n",
            "./input/2_2_160 67\n",
            "./input/2_2_161 68\n",
            "./input/2_2_163 69\n",
            "./input/2_2_157 70\n",
            "./input/2_2_158 71\n",
            "./input/2_2_159 72\n",
            "./input/2_2_150 73\n",
            "./input/2_2_153 74\n",
            "./input/2_2_152 75\n",
            "./input/2_2_155 76\n",
            "./input/2_2_151 77\n",
            "./input/2_2_154 78\n",
            "./input/2_2_156 79\n",
            "./input/2_2_149 80\n",
            "./input/2_2_148 81\n",
            "./input/2_2_147 82\n",
            "./input/2_2_146 83\n",
            "./input/2_1_145 84\n",
            "./input/2_1_144 85\n",
            "./input/2_1_143 86\n",
            "./input/2_1_141 87\n",
            "./input/2_1_142 88\n",
            "./input/2_1_137 89\n",
            "./input/2_1_138 90\n",
            "./input/2_1_134 91\n",
            "./input/2_1_136 92\n",
            "./input/2_1_140 93\n",
            "./input/2_1_135 94\n",
            "./input/2_1_139 95\n",
            "./input/2_1_133 96\n",
            "./input/2_1_132 97\n",
            "./input/2_1_131 98\n",
            "./input/2_1_128 99\n",
            "./input/2_1_129 100\n",
            "./input/2_1_130 101\n",
            "./input/2_1_127 102\n",
            "./input/2_1_126 103\n",
            "./input/2_1_123 104\n",
            "./input/2_1_124 105\n",
            "./input/2_1_121 106\n",
            "./input/2_1_125 107\n",
            "./input/2_1_122 108\n",
            "./input/2_1_120 109\n",
            "./input/2_1_119 110\n",
            "./input/2_1_118 111\n",
            "./input/2_1_115 112\n",
            "./input/2_1_117 113\n",
            "./input/2_1_116 114\n",
            "./input/2_1_113 115\n",
            "./input/2_1_114 116\n",
            "./input/1_4_112 116\n",
            "./input/1_4_111 117\n",
            "./input/1_4_106 118\n",
            "./input/1_4_107 119\n",
            "./input/1_4_110 120\n",
            "./input/1_4_109 121\n",
            "./input/1_4_105 122\n",
            "./input/1_4_108 123\n",
            "./input/1_3_97 124\n",
            "./input/1_3_99 124\n",
            "./input/1_3_98 125\n",
            "./input/1_3_95 126\n",
            "./input/1_3_90 127\n",
            "./input/1_3_93 128\n",
            "./input/1_3_96 129\n",
            "./input/1_3_91 130\n",
            "./input/1_3_92 131\n",
            "./input/1_3_94 132\n",
            "./input/1_3_88 133\n",
            "./input/1_3_87 134\n",
            "./input/1_3_89 135\n",
            "./input/1_3_82 135\n",
            "./input/1_3_85 136\n",
            "./input/1_3_81 137\n",
            "./input/1_3_86 138\n",
            "./input/1_3_84 139\n",
            "./input/1_3_83 140\n",
            "./input/1_3_80 141\n",
            "./input/1_3_79 142\n",
            "./input/1_3_77 143\n",
            "./input/1_3_78 144\n",
            "./input/1_3_73 145\n",
            "./input/1_3_71 146\n",
            "./input/1_3_75 147\n",
            "./input/1_3_74 148\n",
            "./input/1_3_72 149\n",
            "./input/1_3_70 150\n",
            "./input/1_3_76 151\n",
            "./input/1_3_69 152\n",
            "./input/1_3_67 153\n",
            "./input/1_3_68 154\n",
            "./input/1_3_63 155\n",
            "./input/1_3_66 156\n",
            "./input/1_3_65 157\n",
            "./input/1_3_62 158\n",
            "./input/1_3_64 159\n",
            "./input/1_3_61 160\n",
            "./input/1_3_60 161\n",
            "./input/1_3_103 162\n",
            "./input/1_3_59 163\n",
            "./input/1_3_104 164\n",
            "./input/1_2_58 165\n",
            "./input/1_2_57 166\n",
            "./input/1_2_55 167\n",
            "./input/1_2_56 168\n",
            "./input/1_3_100 169\n",
            "./input/1_3_101 170\n",
            "./input/1_3_102 171\n",
            "./input/1_2_52 172\n",
            "./input/1_2_53 173\n",
            "./input/1_2_54 174\n",
            "./input/1_2_51 174\n",
            "./input/1_2_50 175\n",
            "./input/1_2_49 176\n",
            "./input/1_2_46 177\n",
            "./input/1_2_45 178\n",
            "./input/1_2_48 179\n",
            "./input/1_2_44 180\n",
            "./input/1_2_43 181\n",
            "./input/1_2_42 182\n",
            "./input/1_2_40 183\n",
            "./input/1_2_39 184\n",
            "./input/1_2_41 185\n",
            "./input/1_2_37 186\n",
            "./input/1_2_36 187\n",
            "./input/1_2_35 188\n",
            "./input/1_2_38 189\n",
            "./input/1_2_33 189\n",
            "./input/1_2_32 190\n",
            "./input/1_2_34 191\n",
            "./input/1_2_29 192\n",
            "./input/1_2_31 193\n",
            "./input/1_2_30 194\n",
            "./input/1_2_22 195\n",
            "./input/1_2_27 196\n",
            "./input/1_2_25 197\n",
            "./input/1_2_26 198\n",
            "./input/1_2_23 199\n",
            "./input/1_2_24 200\n",
            "./input/1_2_28 201\n",
            "./input/1_1_9 202\n",
            "./input/1_1_7 203\n",
            "./input/1_1_8 203\n",
            "./input/1_1_6 204\n",
            "./input/1_1_4 205\n",
            "./input/1_1_5 206\n",
            "./input/1_1_20 207\n",
            "./input/1_1_21 208\n",
            "./input/1_1_3 209\n",
            "./input/1_1_16 210\n",
            "./input/1_1_19 211\n",
            "./input/1_1_15 212\n",
            "./input/1_1_17 213\n",
            "./input/1_1_2 214\n",
            "./input/1_1_14 215\n",
            "./input/1_1_18 215\n",
            "./input/1_1_12 216\n",
            "./input/1_1_13 217\n",
            "./input/1_1_11 218\n",
            "./input/1_1_10 219\n",
            "./input/1_1_1 220\n",
            "./input/6_5_1858 221\n",
            "./input/6_5_1859 222\n",
            "./input/6_5_1857 223\n",
            "./input/6_4_1853 223\n",
            "./input/6_4_1849 224\n",
            "./input/6_5_1856 225\n",
            "./input/6_4_1852 226\n",
            "./input/6_4_1846 227\n",
            "./input/6_4_1854 228\n",
            "./input/6_4_1847 229\n",
            "./input/6_4_1850 230\n",
            "./input/6_4_1855 231\n",
            "./input/6_4_1851 232\n",
            "./input/6_4_1843 233\n",
            "./input/6_4_1842 234\n",
            "./input/6_4_1837 235\n",
            "./input/6_4_1840 236\n",
            "./input/6_4_1841 237\n",
            "./input/6_4_1838 238\n",
            "./input/6_4_1844 239\n",
            "./input/6_4_1839 240\n",
            "./input/6_4_1836 241\n",
            "./input/6_4_1845 242\n",
            "./input/6_4_1835 243\n",
            "./input/6_4_1833 244\n",
            "./input/6_4_1834 245\n",
            "./input/6_4_1826 246\n",
            "./input/6_4_1832 247\n",
            "./input/6_4_1828 248\n",
            "./input/6_4_1830 249\n",
            "./input/6_4_1824 250\n",
            "./input/6_4_1831 251\n",
            "./input/6_4_1829 252\n",
            "./input/6_4_1823 252\n",
            "./input/6_3_1814 253\n",
            "./input/6_3_1820 254\n",
            "./input/6_3_1816 255\n",
            "./input/6_3_1819 256\n",
            "./input/6_3_1818 257\n",
            "./input/6_3_1821 258\n",
            "./input/6_3_1815 259\n",
            "./input/6_4_1822 260\n",
            "./input/6_3_1817 261\n",
            "./input/6_2_1805 262\n",
            "./input/6_3_1810 263\n",
            "./input/6_3_1807 264\n",
            "./input/6_2_1806 265\n",
            "./input/6_3_1809 266\n",
            "./input/6_3_1812 266\n",
            "./input/6_3_1808 266\n",
            "./input/6_2_1804 267\n",
            "./input/6_3_1811 268\n",
            "./input/6_3_1813 269\n",
            "./input/6_2_1801 269\n",
            "./input/6_2_1802 269\n",
            "./input/6_2_1803 270\n",
            "./input/6_2_1792 271\n",
            "./input/6_2_1799 272\n",
            "./input/6_2_1794 273\n",
            "./input/6_2_1797 274\n",
            "./input/6_2_1796 275\n",
            "./input/6_2_1800 276\n",
            "./input/6_2_1798 277\n",
            "./input/6_2_1788 278\n",
            "./input/6_2_1789 279\n",
            "./input/6_2_1790 280\n",
            "./input/6_2_1791 281\n",
            "./input/6_2_1785 282\n",
            "./input/6_2_1787 282\n",
            "./input/6_2_1781 283\n",
            "./input/6_2_1784 284\n",
            "./input/6_2_1786 285\n",
            "./input/6_2_1782 286\n",
            "./input/6_2_1776 287\n",
            "./input/6_2_1773 288\n",
            "./input/6_2_1775 289\n",
            "./input/6_2_1774 290\n",
            "./input/6_2_1771 291\n",
            "./input/6_2_1779 292\n",
            "./input/6_2_1772 293\n",
            "./input/6_2_1778 294\n",
            "./input/6_2_1780 295\n",
            "./input/6_2_1777 296\n",
            "./input/6_1_1761 297\n",
            "./input/6_2_1767 298\n",
            "./input/6_2_1763 299\n",
            "./input/6_2_1768 300\n",
            "./input/6_1_1762 301\n",
            "./input/6_2_1770 302\n",
            "./input/6_2_1765 303\n",
            "./input/6_2_1769 303\n",
            "./input/6_2_1764 304\n",
            "./input/6_2_1766 305\n",
            "./input/6_1_1754 306\n",
            "./input/6_1_1756 307\n",
            "./input/6_1_1760 308\n",
            "./input/6_1_1753 309\n",
            "./input/6_1_1758 310\n",
            "./input/6_1_1759 311\n",
            "./input/6_1_1757 312\n",
            "./input/6_9_1988 313\n",
            "./input/6_9_1983 314\n",
            "./input/6_9_1980 315\n",
            "./input/6_9_1986 316\n",
            "./input/6_9_1989 317\n",
            "./input/6_9_1982 318\n",
            "./input/6_9_1987 319\n",
            "./input/6_9_1985 320\n",
            "./input/6_9_1981 321\n",
            "./input/6_9_1984 322\n",
            "./input/6_9_1978 323\n",
            "./input/6_9_1979 324\n",
            "./input/6_9_1970 325\n",
            "./input/6_9_1975 326\n",
            "./input/6_9_1975/.ipynb_checkpoints 327\n",
            "./input/6_9_1974 327\n",
            "./input/6_9_1974/.ipynb_checkpoints 328\n",
            "./input/6_9_1971 328\n",
            "./input/6_9_1976 329\n",
            "./input/6_9_1973 330\n",
            "./input/6_9_1977 330\n",
            "./input/6_9_1972 331\n",
            "./input/6_9_1966 332\n",
            "./input/6_9_1962 333\n",
            "./input/6_9_1967 334\n",
            "./input/6_9_1965 335\n",
            "./input/6_9_1960 336\n",
            "./input/6_9_1968 337\n",
            "./input/6_9_1964 338\n",
            "./input/6_9_1969 339\n",
            "./input/6_9_1961 340\n",
            "./input/6_9_1959 341\n",
            "./input/6_9_1955 342\n",
            "./input/6_9_1950 343\n",
            "./input/6_9_1953 344\n",
            "./input/6_9_1952 345\n",
            "./input/6_9_1948 346\n",
            "./input/6_9_1957 347\n",
            "./input/6_9_1951 348\n",
            "./input/6_9_1956 349\n",
            "./input/6_9_1954 349\n",
            "./input/6_9_1949 350\n",
            "./input/6_8_1938 351\n",
            "./input/6_9_1941 352\n",
            "./input/6_9_1946 353\n",
            "./input/6_9_1943 354\n",
            "./input/6_9_1947 355\n",
            "./input/6_9_1942 356\n",
            "./input/6_9_1945 356\n",
            "./input/6_9_1939 357\n",
            "./input/6_9_1944 358\n",
            "./input/6_9_1940 359\n",
            "./input/6_8_1932 360\n",
            "./input/6_8_1935 361\n",
            "./input/6_8_1929 362\n",
            "./input/6_8_1931 363\n",
            "./input/6_8_1936 364\n",
            "./input/6_8_1928 365\n",
            "./input/6_8_1930 366\n",
            "./input/6_8_1933 367\n",
            "./input/6_8_1934 368\n",
            "./input/6_8_1937 369\n",
            "./input/6_8_1923 369\n",
            "./input/6_8_1919 370\n",
            "./input/6_8_1924 371\n",
            "./input/6_8_1925 372\n",
            "./input/6_8_1922 372\n",
            "./input/6_8_1920 373\n",
            "./input/6_8_1926 374\n",
            "./input/6_7_1918 375\n",
            "./input/6_8_1927 376\n",
            "./input/6_8_1921 377\n",
            "./input/6_7_1911 378\n",
            "./input/6_7_1917 379\n",
            "./input/6_7_1916 380\n",
            "./input/6_7_1910 381\n",
            "./input/6_7_1912 382\n",
            "./input/6_7_1913 383\n",
            "./input/6_7_1908 384\n",
            "./input/6_7_1914 385\n",
            "./input/6_7_1915 386\n",
            "./input/6_7_1909 387\n",
            "./input/6_7_1905 388\n",
            "./input/6_7_1900 389\n",
            "./input/6_7_1907 390\n",
            "./input/6_7_1906 391\n",
            "./input/6_7_1901 392\n",
            "./input/6_7_1899 393\n",
            "./input/6_7_1898 394\n",
            "./input/6_7_1903 395\n",
            "./input/6_7_1902 396\n",
            "./input/6_7_1904 397\n",
            "./input/6_6_1891 398\n",
            "./input/6_6_1888 399\n",
            "./input/6_6_1893 400\n",
            "./input/6_6_1894 401\n",
            "./input/6_7_1897 402\n",
            "./input/6_6_1890 403\n",
            "./input/6_6_1889 403\n",
            "./input/6_7_1895 404\n",
            "./input/6_6_1892 405\n",
            "./input/6_7_1896 406\n",
            "./input/6_6_1887 407\n",
            "./input/6_6_1879 407\n",
            "./input/6_6_1886 408\n",
            "./input/6_5_1878 408\n",
            "./input/6_6_1883 409\n",
            "./input/6_6_1885 410\n",
            "./input/6_6_1884 411\n",
            "./input/6_6_1882 412\n",
            "./input/6_6_1880 413\n",
            "./input/6_6_1881 414\n",
            "./input/6_5_1873 415\n",
            "./input/6_5_1867 416\n",
            "./input/6_5_1877 417\n",
            "./input/6_5_1872 417\n",
            "./input/6_5_1874 418\n",
            "./input/6_5_1876 419\n",
            "./input/6_5_1868 420\n",
            "./input/6_5_1870 421\n",
            "./input/6_5_1875 422\n",
            "./input/6_5_1871 423\n",
            "./input/6_5_1864 424\n",
            "./input/6_5_1863 425\n",
            "./input/6_5_1862 426\n",
            "./input/6_5_1865 427\n",
            "./input/6_5_1866 428\n",
            "./input/6_5_1860 429\n",
            "./input/6_5_1861 430\n",
            "431\n",
            "load dataset done\n",
            "load dataset done\n",
            "load dataset done\n"
          ],
          "name": "stdout"
        }
      ]
    },
    {
      "cell_type": "markdown",
      "metadata": {
        "id": "qaRiUj9dl00O"
      },
      "source": [
        "## Model"
      ]
    },
    {
      "cell_type": "code",
      "metadata": {
        "id": "2lGr01Unl00P",
        "colab": {
          "base_uri": "https://localhost:8080/"
        },
        "outputId": "e328a07c-f2ca-495c-c09c-1ae0a40bfaca"
      },
      "source": [
        "vgg = models.vgg19().features.cuda()\n",
        "input_dim = 128\n",
        "summary(vgg, (3, input_dim, input_dim))"
      ],
      "execution_count": null,
      "outputs": [
        {
          "output_type": "stream",
          "text": [
            "----------------------------------------------------------------\n",
            "        Layer (type)               Output Shape         Param #\n",
            "================================================================\n",
            "            Conv2d-1         [-1, 64, 128, 128]           1,792\n",
            "              ReLU-2         [-1, 64, 128, 128]               0\n",
            "            Conv2d-3         [-1, 64, 128, 128]          36,928\n",
            "              ReLU-4         [-1, 64, 128, 128]               0\n",
            "         MaxPool2d-5           [-1, 64, 64, 64]               0\n",
            "            Conv2d-6          [-1, 128, 64, 64]          73,856\n",
            "              ReLU-7          [-1, 128, 64, 64]               0\n",
            "            Conv2d-8          [-1, 128, 64, 64]         147,584\n",
            "              ReLU-9          [-1, 128, 64, 64]               0\n",
            "        MaxPool2d-10          [-1, 128, 32, 32]               0\n",
            "           Conv2d-11          [-1, 256, 32, 32]         295,168\n",
            "             ReLU-12          [-1, 256, 32, 32]               0\n",
            "           Conv2d-13          [-1, 256, 32, 32]         590,080\n",
            "             ReLU-14          [-1, 256, 32, 32]               0\n",
            "           Conv2d-15          [-1, 256, 32, 32]         590,080\n",
            "             ReLU-16          [-1, 256, 32, 32]               0\n",
            "           Conv2d-17          [-1, 256, 32, 32]         590,080\n",
            "             ReLU-18          [-1, 256, 32, 32]               0\n",
            "        MaxPool2d-19          [-1, 256, 16, 16]               0\n",
            "           Conv2d-20          [-1, 512, 16, 16]       1,180,160\n",
            "             ReLU-21          [-1, 512, 16, 16]               0\n",
            "           Conv2d-22          [-1, 512, 16, 16]       2,359,808\n",
            "             ReLU-23          [-1, 512, 16, 16]               0\n",
            "           Conv2d-24          [-1, 512, 16, 16]       2,359,808\n",
            "             ReLU-25          [-1, 512, 16, 16]               0\n",
            "           Conv2d-26          [-1, 512, 16, 16]       2,359,808\n",
            "             ReLU-27          [-1, 512, 16, 16]               0\n",
            "        MaxPool2d-28            [-1, 512, 8, 8]               0\n",
            "           Conv2d-29            [-1, 512, 8, 8]       2,359,808\n",
            "             ReLU-30            [-1, 512, 8, 8]               0\n",
            "           Conv2d-31            [-1, 512, 8, 8]       2,359,808\n",
            "             ReLU-32            [-1, 512, 8, 8]               0\n",
            "           Conv2d-33            [-1, 512, 8, 8]       2,359,808\n",
            "             ReLU-34            [-1, 512, 8, 8]               0\n",
            "           Conv2d-35            [-1, 512, 8, 8]       2,359,808\n",
            "             ReLU-36            [-1, 512, 8, 8]               0\n",
            "        MaxPool2d-37            [-1, 512, 4, 4]               0\n",
            "================================================================\n",
            "Total params: 20,024,384\n",
            "Trainable params: 20,024,384\n",
            "Non-trainable params: 0\n",
            "----------------------------------------------------------------\n",
            "Input size (MB): 0.19\n",
            "Forward/backward pass size (MB): 77.81\n",
            "Params size (MB): 76.39\n",
            "Estimated Total Size (MB): 154.39\n",
            "----------------------------------------------------------------\n"
          ],
          "name": "stdout"
        }
      ]
    },
    {
      "cell_type": "code",
      "metadata": {
        "colab": {
          "base_uri": "https://localhost:8080/"
        },
        "id": "2uu8pVbx0P2r",
        "outputId": "067ddaa9-4c1a-423f-cb67-b0feb2e3628f"
      },
      "source": [
        "resnet = models.resnet18().cuda()\n",
        "input_dim = 128\n",
        "summary(resnet, (3, input_dim, input_dim))"
      ],
      "execution_count": null,
      "outputs": [
        {
          "output_type": "stream",
          "text": [
            "----------------------------------------------------------------\n",
            "        Layer (type)               Output Shape         Param #\n",
            "================================================================\n",
            "            Conv2d-1           [-1, 64, 64, 64]           9,408\n",
            "       BatchNorm2d-2           [-1, 64, 64, 64]             128\n",
            "              ReLU-3           [-1, 64, 64, 64]               0\n",
            "         MaxPool2d-4           [-1, 64, 32, 32]               0\n",
            "            Conv2d-5           [-1, 64, 32, 32]          36,864\n",
            "       BatchNorm2d-6           [-1, 64, 32, 32]             128\n",
            "              ReLU-7           [-1, 64, 32, 32]               0\n",
            "            Conv2d-8           [-1, 64, 32, 32]          36,864\n",
            "       BatchNorm2d-9           [-1, 64, 32, 32]             128\n",
            "             ReLU-10           [-1, 64, 32, 32]               0\n",
            "       BasicBlock-11           [-1, 64, 32, 32]               0\n",
            "           Conv2d-12           [-1, 64, 32, 32]          36,864\n",
            "      BatchNorm2d-13           [-1, 64, 32, 32]             128\n",
            "             ReLU-14           [-1, 64, 32, 32]               0\n",
            "           Conv2d-15           [-1, 64, 32, 32]          36,864\n",
            "      BatchNorm2d-16           [-1, 64, 32, 32]             128\n",
            "             ReLU-17           [-1, 64, 32, 32]               0\n",
            "       BasicBlock-18           [-1, 64, 32, 32]               0\n",
            "           Conv2d-19          [-1, 128, 16, 16]          73,728\n",
            "      BatchNorm2d-20          [-1, 128, 16, 16]             256\n",
            "             ReLU-21          [-1, 128, 16, 16]               0\n",
            "           Conv2d-22          [-1, 128, 16, 16]         147,456\n",
            "      BatchNorm2d-23          [-1, 128, 16, 16]             256\n",
            "           Conv2d-24          [-1, 128, 16, 16]           8,192\n",
            "      BatchNorm2d-25          [-1, 128, 16, 16]             256\n",
            "             ReLU-26          [-1, 128, 16, 16]               0\n",
            "       BasicBlock-27          [-1, 128, 16, 16]               0\n",
            "           Conv2d-28          [-1, 128, 16, 16]         147,456\n",
            "      BatchNorm2d-29          [-1, 128, 16, 16]             256\n",
            "             ReLU-30          [-1, 128, 16, 16]               0\n",
            "           Conv2d-31          [-1, 128, 16, 16]         147,456\n",
            "      BatchNorm2d-32          [-1, 128, 16, 16]             256\n",
            "             ReLU-33          [-1, 128, 16, 16]               0\n",
            "       BasicBlock-34          [-1, 128, 16, 16]               0\n",
            "           Conv2d-35            [-1, 256, 8, 8]         294,912\n",
            "      BatchNorm2d-36            [-1, 256, 8, 8]             512\n",
            "             ReLU-37            [-1, 256, 8, 8]               0\n",
            "           Conv2d-38            [-1, 256, 8, 8]         589,824\n",
            "      BatchNorm2d-39            [-1, 256, 8, 8]             512\n",
            "           Conv2d-40            [-1, 256, 8, 8]          32,768\n",
            "      BatchNorm2d-41            [-1, 256, 8, 8]             512\n",
            "             ReLU-42            [-1, 256, 8, 8]               0\n",
            "       BasicBlock-43            [-1, 256, 8, 8]               0\n",
            "           Conv2d-44            [-1, 256, 8, 8]         589,824\n",
            "      BatchNorm2d-45            [-1, 256, 8, 8]             512\n",
            "             ReLU-46            [-1, 256, 8, 8]               0\n",
            "           Conv2d-47            [-1, 256, 8, 8]         589,824\n",
            "      BatchNorm2d-48            [-1, 256, 8, 8]             512\n",
            "             ReLU-49            [-1, 256, 8, 8]               0\n",
            "       BasicBlock-50            [-1, 256, 8, 8]               0\n",
            "           Conv2d-51            [-1, 512, 4, 4]       1,179,648\n",
            "      BatchNorm2d-52            [-1, 512, 4, 4]           1,024\n",
            "             ReLU-53            [-1, 512, 4, 4]               0\n",
            "           Conv2d-54            [-1, 512, 4, 4]       2,359,296\n",
            "      BatchNorm2d-55            [-1, 512, 4, 4]           1,024\n",
            "           Conv2d-56            [-1, 512, 4, 4]         131,072\n",
            "      BatchNorm2d-57            [-1, 512, 4, 4]           1,024\n",
            "             ReLU-58            [-1, 512, 4, 4]               0\n",
            "       BasicBlock-59            [-1, 512, 4, 4]               0\n",
            "           Conv2d-60            [-1, 512, 4, 4]       2,359,296\n",
            "      BatchNorm2d-61            [-1, 512, 4, 4]           1,024\n",
            "             ReLU-62            [-1, 512, 4, 4]               0\n",
            "           Conv2d-63            [-1, 512, 4, 4]       2,359,296\n",
            "      BatchNorm2d-64            [-1, 512, 4, 4]           1,024\n",
            "             ReLU-65            [-1, 512, 4, 4]               0\n",
            "       BasicBlock-66            [-1, 512, 4, 4]               0\n",
            "AdaptiveAvgPool2d-67            [-1, 512, 1, 1]               0\n",
            "           Linear-68                 [-1, 1000]         513,000\n",
            "================================================================\n",
            "Total params: 11,689,512\n",
            "Trainable params: 11,689,512\n",
            "Non-trainable params: 0\n",
            "----------------------------------------------------------------\n",
            "Input size (MB): 0.19\n",
            "Forward/backward pass size (MB): 20.51\n",
            "Params size (MB): 44.59\n",
            "Estimated Total Size (MB): 65.29\n",
            "----------------------------------------------------------------\n"
          ],
          "name": "stdout"
        }
      ]
    },
    {
      "cell_type": "code",
      "metadata": {
        "tags": [],
        "id": "czjso0Jzl00P",
        "colab": {
          "base_uri": "https://localhost:8080/"
        },
        "outputId": "58c8d216-9ad8-4b3a-b3f8-9d7abad3cbd9"
      },
      "source": [
        "class nnModel(nn.Module):\n",
        "\n",
        "    def __init__(self, input_size, hidden_size, cnn_output_size=512*4*4):\n",
        "        \"\"\"\n",
        "        Initialize NN architecture.\n",
        "\n",
        "        Hyperparameters\n",
        "        ----------\n",
        "        input_dim: int\n",
        "            Input size in LSTM.\n",
        "        hidden_dim: int\n",
        "            Hidden size in LSTM.\n",
        "        \"\"\"\n",
        "\n",
        "        super(nnModel, self).__init__()\n",
        "\n",
        "        self.input_size = cnn_output_size\n",
        "        self.hidden_size = hidden_size\n",
        "        self.lstm1 = nn.LSTMCell(input_size=self.input_size, hidden_size=self.hidden_size).cuda()\n",
        "        self.dropout1 = nn.Dropout(0.4)\n",
        "        self.dropout2 = nn.Dropout(0.2) \n",
        "        ##############################################################################\n",
        "        # TODO: Adjust CNN Model                                                     #\n",
        "        ##############################################################################\n",
        "        self.cnn = models.resnet18(pretrained=True).cuda()\n",
        "        ##############################################################################\n",
        "        # TODO: Adjust CNN output size base on the summary function above            #\n",
        "        ##############################################################################\n",
        "        self.cnn_output_size = cnn_output_size\n",
        "        self.fc_cnn_lstm = nn.Linear(self.cnn_output_size, self.input_size).cuda()\n",
        "        self.fc_lstm_output = nn.Linear(self.hidden_size, 2).cuda()\n",
        "\n",
        "\n",
        "    def init_weights(self):\n",
        "        \"\"\"Initializing lstm weights.\"\"\"\n",
        "        \"\"\"TODO: Adjust initialization.\"\"\"\n",
        "        nn.init.xavier_uniform_(self.lstm1.weight_ih, gain=1.0).cuda()\n",
        "        nn.init.xavier_uniform_(self.lstm1.weight_hh, gain=1.0).cuda()\n",
        "        nn.init.constant_(self.lstm1.bias_ih, 0.0).cuda()\n",
        "        nn.init.constant_(self.lstm1.bias_hh, 0.0).cuda()\n",
        "\n",
        "    def init_hidden(self, N):\n",
        "        \"\"\"Initializing hidden states and cell states.\"\"\"\n",
        "        h_0 = torch.zeros(N, self.hidden_size).cuda()\n",
        "        c_0 = torch.zeros(N, self.hidden_size).cuda()\n",
        "        return h_0, c_0\n",
        "\n",
        "    def forward(self, img_sequence):\n",
        "        N,T,d,x,y = img_sequence.shape  # N is batchsize T is timestep, d = 3\n",
        "        #print(\"img_sequence\",img_sequence.size())\n",
        "        # declaring the initial hidden states and cell states\n",
        "        h_t, c_t = self.init_hidden(N)\n",
        "\n",
        "        for i in range(T):\n",
        "            img = img_sequence[:,i,:,:,:]   #N*Cin*Hin*Win\n",
        "            #print(img.shape)\n",
        "            img_features = self.cnn(img).view(-1,self.cnn_output_size)    #N*Cout*Hout*Wout\n",
        "            img_features = self.dropout1(img_features)\n",
        "            i_t = self.fc_cnn_lstm(img_features)\n",
        "            h_t,c_t = self.lstm1(i_t,(h_t,c_t))\n",
        "            #h_t,c_t = self.lstm1(img_features,(h_t,c_t))\n",
        "            \n",
        "        output = self.fc_lstm_output(h_t)\n",
        "\n",
        "        return output\n",
        "\n",
        "        # NOTE: Optional bbox sequence data\n",
        "        # input_size2 = hidden_size1\n",
        "        # hidden_size2 = hidden_size2\n",
        "        # lstm2 = nn.LSTMCell(input_size=input_size2,hidden_size=hidden_size2)\n",
        "        # h_t=c_t = torch.zeros(N, hidden_size2)#\n",
        "        # for i in range(T):\n",
        "        # input = (h + bbox_sequence[:,-i,:,:,:]).view(N,-1)\n",
        "        # h_t,c_t = lstm(input,(h_t,c_t))\n",
        "\n",
        "\n",
        "##############################################################################\n",
        "# TODO: Adjust Input_size and hidden_size here                               #\n",
        "##############################################################################\n",
        "model = nnModel(128 , 128, 1000).cuda()#.to(device)\n",
        "criterion = nn.CrossEntropyLoss().cuda() # Specify the loss layer\n",
        "print('Your network:')\n",
        "print(model)\n",
        "#print(summary(model, (BATCH_SIZE,SEQUENCE_SIZE,3,128,128))) # visualize your model "
      ],
      "execution_count": null,
      "outputs": [
        {
          "output_type": "stream",
          "text": [
            "Your network:\n",
            "nnModel(\n",
            "  (lstm1): LSTMCell(1000, 128)\n",
            "  (dropout1): Dropout(p=0.4, inplace=False)\n",
            "  (dropout2): Dropout(p=0.2, inplace=False)\n",
            "  (cnn): ResNet(\n",
            "    (conv1): Conv2d(3, 64, kernel_size=(7, 7), stride=(2, 2), padding=(3, 3), bias=False)\n",
            "    (bn1): BatchNorm2d(64, eps=1e-05, momentum=0.1, affine=True, track_running_stats=True)\n",
            "    (relu): ReLU(inplace=True)\n",
            "    (maxpool): MaxPool2d(kernel_size=3, stride=2, padding=1, dilation=1, ceil_mode=False)\n",
            "    (layer1): Sequential(\n",
            "      (0): BasicBlock(\n",
            "        (conv1): Conv2d(64, 64, kernel_size=(3, 3), stride=(1, 1), padding=(1, 1), bias=False)\n",
            "        (bn1): BatchNorm2d(64, eps=1e-05, momentum=0.1, affine=True, track_running_stats=True)\n",
            "        (relu): ReLU(inplace=True)\n",
            "        (conv2): Conv2d(64, 64, kernel_size=(3, 3), stride=(1, 1), padding=(1, 1), bias=False)\n",
            "        (bn2): BatchNorm2d(64, eps=1e-05, momentum=0.1, affine=True, track_running_stats=True)\n",
            "      )\n",
            "      (1): BasicBlock(\n",
            "        (conv1): Conv2d(64, 64, kernel_size=(3, 3), stride=(1, 1), padding=(1, 1), bias=False)\n",
            "        (bn1): BatchNorm2d(64, eps=1e-05, momentum=0.1, affine=True, track_running_stats=True)\n",
            "        (relu): ReLU(inplace=True)\n",
            "        (conv2): Conv2d(64, 64, kernel_size=(3, 3), stride=(1, 1), padding=(1, 1), bias=False)\n",
            "        (bn2): BatchNorm2d(64, eps=1e-05, momentum=0.1, affine=True, track_running_stats=True)\n",
            "      )\n",
            "    )\n",
            "    (layer2): Sequential(\n",
            "      (0): BasicBlock(\n",
            "        (conv1): Conv2d(64, 128, kernel_size=(3, 3), stride=(2, 2), padding=(1, 1), bias=False)\n",
            "        (bn1): BatchNorm2d(128, eps=1e-05, momentum=0.1, affine=True, track_running_stats=True)\n",
            "        (relu): ReLU(inplace=True)\n",
            "        (conv2): Conv2d(128, 128, kernel_size=(3, 3), stride=(1, 1), padding=(1, 1), bias=False)\n",
            "        (bn2): BatchNorm2d(128, eps=1e-05, momentum=0.1, affine=True, track_running_stats=True)\n",
            "        (downsample): Sequential(\n",
            "          (0): Conv2d(64, 128, kernel_size=(1, 1), stride=(2, 2), bias=False)\n",
            "          (1): BatchNorm2d(128, eps=1e-05, momentum=0.1, affine=True, track_running_stats=True)\n",
            "        )\n",
            "      )\n",
            "      (1): BasicBlock(\n",
            "        (conv1): Conv2d(128, 128, kernel_size=(3, 3), stride=(1, 1), padding=(1, 1), bias=False)\n",
            "        (bn1): BatchNorm2d(128, eps=1e-05, momentum=0.1, affine=True, track_running_stats=True)\n",
            "        (relu): ReLU(inplace=True)\n",
            "        (conv2): Conv2d(128, 128, kernel_size=(3, 3), stride=(1, 1), padding=(1, 1), bias=False)\n",
            "        (bn2): BatchNorm2d(128, eps=1e-05, momentum=0.1, affine=True, track_running_stats=True)\n",
            "      )\n",
            "    )\n",
            "    (layer3): Sequential(\n",
            "      (0): BasicBlock(\n",
            "        (conv1): Conv2d(128, 256, kernel_size=(3, 3), stride=(2, 2), padding=(1, 1), bias=False)\n",
            "        (bn1): BatchNorm2d(256, eps=1e-05, momentum=0.1, affine=True, track_running_stats=True)\n",
            "        (relu): ReLU(inplace=True)\n",
            "        (conv2): Conv2d(256, 256, kernel_size=(3, 3), stride=(1, 1), padding=(1, 1), bias=False)\n",
            "        (bn2): BatchNorm2d(256, eps=1e-05, momentum=0.1, affine=True, track_running_stats=True)\n",
            "        (downsample): Sequential(\n",
            "          (0): Conv2d(128, 256, kernel_size=(1, 1), stride=(2, 2), bias=False)\n",
            "          (1): BatchNorm2d(256, eps=1e-05, momentum=0.1, affine=True, track_running_stats=True)\n",
            "        )\n",
            "      )\n",
            "      (1): BasicBlock(\n",
            "        (conv1): Conv2d(256, 256, kernel_size=(3, 3), stride=(1, 1), padding=(1, 1), bias=False)\n",
            "        (bn1): BatchNorm2d(256, eps=1e-05, momentum=0.1, affine=True, track_running_stats=True)\n",
            "        (relu): ReLU(inplace=True)\n",
            "        (conv2): Conv2d(256, 256, kernel_size=(3, 3), stride=(1, 1), padding=(1, 1), bias=False)\n",
            "        (bn2): BatchNorm2d(256, eps=1e-05, momentum=0.1, affine=True, track_running_stats=True)\n",
            "      )\n",
            "    )\n",
            "    (layer4): Sequential(\n",
            "      (0): BasicBlock(\n",
            "        (conv1): Conv2d(256, 512, kernel_size=(3, 3), stride=(2, 2), padding=(1, 1), bias=False)\n",
            "        (bn1): BatchNorm2d(512, eps=1e-05, momentum=0.1, affine=True, track_running_stats=True)\n",
            "        (relu): ReLU(inplace=True)\n",
            "        (conv2): Conv2d(512, 512, kernel_size=(3, 3), stride=(1, 1), padding=(1, 1), bias=False)\n",
            "        (bn2): BatchNorm2d(512, eps=1e-05, momentum=0.1, affine=True, track_running_stats=True)\n",
            "        (downsample): Sequential(\n",
            "          (0): Conv2d(256, 512, kernel_size=(1, 1), stride=(2, 2), bias=False)\n",
            "          (1): BatchNorm2d(512, eps=1e-05, momentum=0.1, affine=True, track_running_stats=True)\n",
            "        )\n",
            "      )\n",
            "      (1): BasicBlock(\n",
            "        (conv1): Conv2d(512, 512, kernel_size=(3, 3), stride=(1, 1), padding=(1, 1), bias=False)\n",
            "        (bn1): BatchNorm2d(512, eps=1e-05, momentum=0.1, affine=True, track_running_stats=True)\n",
            "        (relu): ReLU(inplace=True)\n",
            "        (conv2): Conv2d(512, 512, kernel_size=(3, 3), stride=(1, 1), padding=(1, 1), bias=False)\n",
            "        (bn2): BatchNorm2d(512, eps=1e-05, momentum=0.1, affine=True, track_running_stats=True)\n",
            "      )\n",
            "    )\n",
            "    (avgpool): AdaptiveAvgPool2d(output_size=(1, 1))\n",
            "    (fc): Linear(in_features=512, out_features=1000, bias=True)\n",
            "  )\n",
            "  (fc_cnn_lstm): Linear(in_features=1000, out_features=1000, bias=True)\n",
            "  (fc_lstm_output): Linear(in_features=128, out_features=2, bias=True)\n",
            ")\n"
          ],
          "name": "stdout"
        }
      ]
    },
    {
      "cell_type": "markdown",
      "metadata": {
        "id": "we3bK0YAl00Q"
      },
      "source": [
        "## Training"
      ]
    },
    {
      "cell_type": "code",
      "metadata": {
        "id": "_OHGrLzUl00R"
      },
      "source": [
        "lr = 5e-5\n",
        "weight_decay = 1\n",
        "num_epoch = 10\n",
        "optimizer = optim.Adam(model.parameters(), lr=lr,\n",
        "                       weight_decay=weight_decay)\n"
      ],
      "execution_count": null,
      "outputs": []
    },
    {
      "cell_type": "code",
      "metadata": {
        "id": "4wNAzc1ml00S",
        "colab": {
          "base_uri": "https://localhost:8080/"
        },
        "outputId": "fd1dfc5a-0c93-488b-a21c-09769a0e5de9"
      },
      "source": [
        "# %%time\n",
        "def train(model,trainloader, valloader, num_epoch = 10): # Train the model\n",
        "  print(\"Srain(model, tart training...\")\n",
        "  trn_loss_hist = []\n",
        "  trn_acc_hist = []\n",
        "  val_acc_hist = []\n",
        "  model.train() # Set the model to training mode\n",
        "  for i in range(num_epoch):\n",
        "    running_loss = []\n",
        "    print('-----------------Epoch = %d-----------------' % (i+1))\n",
        "    for batch, label in tqdm(trainloader):\n",
        "      batch = batch.to(device)\n",
        "      label = label.to(device)\n",
        "      #print(\"batch\",batch.size())\n",
        "      optimizer.zero_grad() # Clear gradients from the previous iteration\n",
        "      pred = model(batch) # This will call Network.forward() that you implement\n",
        "      loss = criterion(pred, label) # Calculate the loss\n",
        "      running_loss.append(loss.item())\n",
        "      loss.backward() # Backprop gradients to all tensors in the network\n",
        "      optimizer.step() # Update trainable weights\n",
        "    print(\"\\n Epoch {} loss:{}\".format(i+1,np.mean(running_loss)))\n",
        "\n",
        "    # Keep track of training loss, accuracy, and validation loss\n",
        "    trn_loss_hist.append(np.mean(running_loss))\n",
        "    trn_acc_hist.append(evaluate(model, trainloader))\n",
        "    print(\"\\n Evaluate on validation set...\")\n",
        "    val_acc_hist.append(evaluate(model, valloader))\n",
        "  print(\"Done!\")\n",
        "  return trn_loss_hist, trn_acc_hist, val_acc_hist\n",
        "\n",
        "def evaluate(model, loader): # Evaluate accuracy on validation / test set\n",
        "  model.eval() # Set the model to evaluation mode\n",
        "  correct = 0\n",
        "  with torch.no_grad(): # Do not calculate grident to speed up computation\n",
        "    for batch, label in tqdm(loader):\n",
        "      batch = batch.to(device)\n",
        "      label = label.to(device)\n",
        "      pred = model(batch)\n",
        "      correct += (torch.argmax(pred,dim=1)==label).sum().item()\n",
        "    acc = correct/len(loader.dataset)\n",
        "    print(\"\\n Evaluation accuracy: {}\".format(acc))\n",
        "    return acc\n",
        "    \n",
        "trn_loss_hist, trn_acc_hist, val_acc_hist = train(model, train_loader, \n",
        "                                                  val_loader, num_epoch)\n",
        "\n",
        "##############################################################################\n",
        "# TODO: Note down the evaluation accuracy on test set                        #\n",
        "##############################################################################\n",
        "print(\"\\n Evaluate on test set\")\n",
        "evaluate(model, test_loader);"
      ],
      "execution_count": null,
      "outputs": [
        {
          "output_type": "stream",
          "text": [
            "\r  0%|          | 0/20 [00:00<?, ?it/s]"
          ],
          "name": "stderr"
        },
        {
          "output_type": "stream",
          "text": [
            "Srain(model, tart training...\n",
            "-----------------Epoch = 1-----------------\n"
          ],
          "name": "stdout"
        },
        {
          "output_type": "stream",
          "text": [
            "100%|██████████| 20/20 [00:07<00:00,  2.68it/s]\n",
            "  5%|▌         | 1/20 [00:00<00:02,  7.06it/s]"
          ],
          "name": "stderr"
        },
        {
          "output_type": "stream",
          "text": [
            "\n",
            " Epoch 1 loss:0.674353438615799\n"
          ],
          "name": "stdout"
        },
        {
          "output_type": "stream",
          "text": [
            "100%|██████████| 20/20 [00:02<00:00,  7.40it/s]\n",
            "  6%|▋         | 1/16 [00:00<00:01,  7.54it/s]"
          ],
          "name": "stderr"
        },
        {
          "output_type": "stream",
          "text": [
            "\n",
            " Evaluation accuracy: 0.71\n",
            "\n",
            " Evaluate on validation set...\n"
          ],
          "name": "stdout"
        },
        {
          "output_type": "stream",
          "text": [
            "100%|██████████| 16/16 [00:02<00:00,  7.45it/s]\n",
            "  0%|          | 0/20 [00:00<?, ?it/s]"
          ],
          "name": "stderr"
        },
        {
          "output_type": "stream",
          "text": [
            "\n",
            " Evaluation accuracy: 0.6875\n",
            "-----------------Epoch = 2-----------------\n"
          ],
          "name": "stdout"
        },
        {
          "output_type": "stream",
          "text": [
            "100%|██████████| 20/20 [00:07<00:00,  2.72it/s]\n",
            "  5%|▌         | 1/20 [00:00<00:02,  7.06it/s]"
          ],
          "name": "stderr"
        },
        {
          "output_type": "stream",
          "text": [
            "\n",
            " Epoch 2 loss:0.5922747373580932\n"
          ],
          "name": "stdout"
        },
        {
          "output_type": "stream",
          "text": [
            "100%|██████████| 20/20 [00:02<00:00,  7.33it/s]\n",
            "  6%|▋         | 1/16 [00:00<00:02,  7.48it/s]"
          ],
          "name": "stderr"
        },
        {
          "output_type": "stream",
          "text": [
            "\n",
            " Evaluation accuracy: 0.76\n",
            "\n",
            " Evaluate on validation set...\n"
          ],
          "name": "stdout"
        },
        {
          "output_type": "stream",
          "text": [
            "100%|██████████| 16/16 [00:02<00:00,  7.29it/s]\n",
            "  0%|          | 0/20 [00:00<?, ?it/s]"
          ],
          "name": "stderr"
        },
        {
          "output_type": "stream",
          "text": [
            "\n",
            " Evaluation accuracy: 0.7625\n",
            "-----------------Epoch = 3-----------------\n"
          ],
          "name": "stdout"
        },
        {
          "output_type": "stream",
          "text": [
            "100%|██████████| 20/20 [00:07<00:00,  2.66it/s]\n",
            "  5%|▌         | 1/20 [00:00<00:02,  6.76it/s]"
          ],
          "name": "stderr"
        },
        {
          "output_type": "stream",
          "text": [
            "\n",
            " Epoch 3 loss:0.4755533471703529\n"
          ],
          "name": "stdout"
        },
        {
          "output_type": "stream",
          "text": [
            "100%|██████████| 20/20 [00:02<00:00,  7.19it/s]\n",
            "  6%|▋         | 1/16 [00:00<00:02,  7.41it/s]"
          ],
          "name": "stderr"
        },
        {
          "output_type": "stream",
          "text": [
            "\n",
            " Evaluation accuracy: 0.795\n",
            "\n",
            " Evaluate on validation set...\n"
          ],
          "name": "stdout"
        },
        {
          "output_type": "stream",
          "text": [
            "100%|██████████| 16/16 [00:02<00:00,  7.22it/s]\n",
            "  0%|          | 0/20 [00:00<?, ?it/s]"
          ],
          "name": "stderr"
        },
        {
          "output_type": "stream",
          "text": [
            "\n",
            " Evaluation accuracy: 0.75\n",
            "-----------------Epoch = 4-----------------\n"
          ],
          "name": "stdout"
        },
        {
          "output_type": "stream",
          "text": [
            "100%|██████████| 20/20 [00:07<00:00,  2.64it/s]\n",
            "  5%|▌         | 1/20 [00:00<00:02,  6.96it/s]"
          ],
          "name": "stderr"
        },
        {
          "output_type": "stream",
          "text": [
            "\n",
            " Epoch 4 loss:0.4038394793868065\n"
          ],
          "name": "stdout"
        },
        {
          "output_type": "stream",
          "text": [
            "100%|██████████| 20/20 [00:02<00:00,  7.22it/s]\n",
            "  6%|▋         | 1/16 [00:00<00:02,  7.43it/s]"
          ],
          "name": "stderr"
        },
        {
          "output_type": "stream",
          "text": [
            "\n",
            " Evaluation accuracy: 0.9\n",
            "\n",
            " Evaluate on validation set...\n"
          ],
          "name": "stdout"
        },
        {
          "output_type": "stream",
          "text": [
            "100%|██████████| 16/16 [00:02<00:00,  7.29it/s]\n",
            "  0%|          | 0/20 [00:00<?, ?it/s]"
          ],
          "name": "stderr"
        },
        {
          "output_type": "stream",
          "text": [
            "\n",
            " Evaluation accuracy: 0.7875\n",
            "-----------------Epoch = 5-----------------\n"
          ],
          "name": "stdout"
        },
        {
          "output_type": "stream",
          "text": [
            "100%|██████████| 20/20 [00:07<00:00,  2.68it/s]\n",
            "  5%|▌         | 1/20 [00:00<00:02,  6.99it/s]"
          ],
          "name": "stderr"
        },
        {
          "output_type": "stream",
          "text": [
            "\n",
            " Epoch 5 loss:0.33571621403098106\n"
          ],
          "name": "stdout"
        },
        {
          "output_type": "stream",
          "text": [
            "100%|██████████| 20/20 [00:02<00:00,  7.34it/s]\n",
            "  6%|▋         | 1/16 [00:00<00:02,  7.50it/s]"
          ],
          "name": "stderr"
        },
        {
          "output_type": "stream",
          "text": [
            "\n",
            " Evaluation accuracy: 0.925\n",
            "\n",
            " Evaluate on validation set...\n"
          ],
          "name": "stdout"
        },
        {
          "output_type": "stream",
          "text": [
            "100%|██████████| 16/16 [00:02<00:00,  7.37it/s]\n",
            "  0%|          | 0/20 [00:00<?, ?it/s]"
          ],
          "name": "stderr"
        },
        {
          "output_type": "stream",
          "text": [
            "\n",
            " Evaluation accuracy: 0.7625\n",
            "-----------------Epoch = 6-----------------\n"
          ],
          "name": "stdout"
        },
        {
          "output_type": "stream",
          "text": [
            "100%|██████████| 20/20 [00:07<00:00,  2.71it/s]\n",
            "  5%|▌         | 1/20 [00:00<00:02,  7.17it/s]"
          ],
          "name": "stderr"
        },
        {
          "output_type": "stream",
          "text": [
            "\n",
            " Epoch 6 loss:0.30959229841828345\n"
          ],
          "name": "stdout"
        },
        {
          "output_type": "stream",
          "text": [
            "100%|██████████| 20/20 [00:02<00:00,  7.39it/s]\n",
            "  6%|▋         | 1/16 [00:00<00:01,  7.50it/s]"
          ],
          "name": "stderr"
        },
        {
          "output_type": "stream",
          "text": [
            "\n",
            " Evaluation accuracy: 0.93\n",
            "\n",
            " Evaluate on validation set...\n"
          ],
          "name": "stdout"
        },
        {
          "output_type": "stream",
          "text": [
            "100%|██████████| 16/16 [00:02<00:00,  7.41it/s]\n",
            "  0%|          | 0/20 [00:00<?, ?it/s]"
          ],
          "name": "stderr"
        },
        {
          "output_type": "stream",
          "text": [
            "\n",
            " Evaluation accuracy: 0.775\n",
            "-----------------Epoch = 7-----------------\n"
          ],
          "name": "stdout"
        },
        {
          "output_type": "stream",
          "text": [
            "100%|██████████| 20/20 [00:07<00:00,  2.73it/s]\n",
            "  5%|▌         | 1/20 [00:00<00:02,  7.05it/s]"
          ],
          "name": "stderr"
        },
        {
          "output_type": "stream",
          "text": [
            "\n",
            " Epoch 7 loss:0.27007704600691795\n"
          ],
          "name": "stdout"
        },
        {
          "output_type": "stream",
          "text": [
            "100%|██████████| 20/20 [00:02<00:00,  7.40it/s]\n",
            "  6%|▋         | 1/16 [00:00<00:01,  7.50it/s]"
          ],
          "name": "stderr"
        },
        {
          "output_type": "stream",
          "text": [
            "\n",
            " Evaluation accuracy: 0.915\n",
            "\n",
            " Evaluate on validation set...\n"
          ],
          "name": "stdout"
        },
        {
          "output_type": "stream",
          "text": [
            "100%|██████████| 16/16 [00:02<00:00,  7.44it/s]\n",
            "  0%|          | 0/20 [00:00<?, ?it/s]"
          ],
          "name": "stderr"
        },
        {
          "output_type": "stream",
          "text": [
            "\n",
            " Evaluation accuracy: 0.76875\n",
            "-----------------Epoch = 8-----------------\n"
          ],
          "name": "stdout"
        },
        {
          "output_type": "stream",
          "text": [
            "100%|██████████| 20/20 [00:07<00:00,  2.72it/s]\n",
            "  5%|▌         | 1/20 [00:00<00:02,  7.20it/s]"
          ],
          "name": "stderr"
        },
        {
          "output_type": "stream",
          "text": [
            "\n",
            " Epoch 8 loss:0.27229952737689017\n"
          ],
          "name": "stdout"
        },
        {
          "output_type": "stream",
          "text": [
            "100%|██████████| 20/20 [00:02<00:00,  7.38it/s]\n",
            "  6%|▋         | 1/16 [00:00<00:02,  7.40it/s]"
          ],
          "name": "stderr"
        },
        {
          "output_type": "stream",
          "text": [
            "\n",
            " Evaluation accuracy: 0.85\n",
            "\n",
            " Evaluate on validation set...\n"
          ],
          "name": "stdout"
        },
        {
          "output_type": "stream",
          "text": [
            "100%|██████████| 16/16 [00:02<00:00,  7.37it/s]\n",
            "  0%|          | 0/20 [00:00<?, ?it/s]"
          ],
          "name": "stderr"
        },
        {
          "output_type": "stream",
          "text": [
            "\n",
            " Evaluation accuracy: 0.76875\n",
            "-----------------Epoch = 9-----------------\n"
          ],
          "name": "stdout"
        },
        {
          "output_type": "stream",
          "text": [
            "100%|██████████| 20/20 [00:07<00:00,  2.70it/s]\n",
            "  5%|▌         | 1/20 [00:00<00:02,  7.09it/s]"
          ],
          "name": "stderr"
        },
        {
          "output_type": "stream",
          "text": [
            "\n",
            " Epoch 9 loss:0.25173974484205247\n"
          ],
          "name": "stdout"
        },
        {
          "output_type": "stream",
          "text": [
            "100%|██████████| 20/20 [00:02<00:00,  7.32it/s]\n",
            "  6%|▋         | 1/16 [00:00<00:01,  7.51it/s]"
          ],
          "name": "stderr"
        },
        {
          "output_type": "stream",
          "text": [
            "\n",
            " Evaluation accuracy: 0.96\n",
            "\n",
            " Evaluate on validation set...\n"
          ],
          "name": "stdout"
        },
        {
          "output_type": "stream",
          "text": [
            "100%|██████████| 16/16 [00:02<00:00,  7.38it/s]\n",
            "  0%|          | 0/20 [00:00<?, ?it/s]"
          ],
          "name": "stderr"
        },
        {
          "output_type": "stream",
          "text": [
            "\n",
            " Evaluation accuracy: 0.75625\n",
            "-----------------Epoch = 10-----------------\n"
          ],
          "name": "stdout"
        },
        {
          "output_type": "stream",
          "text": [
            "100%|██████████| 20/20 [00:07<00:00,  2.70it/s]\n",
            "  5%|▌         | 1/20 [00:00<00:02,  7.03it/s]"
          ],
          "name": "stderr"
        },
        {
          "output_type": "stream",
          "text": [
            "\n",
            " Epoch 10 loss:0.22079105749726297\n"
          ],
          "name": "stdout"
        },
        {
          "output_type": "stream",
          "text": [
            "100%|██████████| 20/20 [00:02<00:00,  7.31it/s]\n",
            "  6%|▋         | 1/16 [00:00<00:01,  7.57it/s]"
          ],
          "name": "stderr"
        },
        {
          "output_type": "stream",
          "text": [
            "\n",
            " Evaluation accuracy: 0.97\n",
            "\n",
            " Evaluate on validation set...\n"
          ],
          "name": "stdout"
        },
        {
          "output_type": "stream",
          "text": [
            "100%|██████████| 16/16 [00:02<00:00,  7.34it/s]\n",
            " 25%|██▌       | 1/4 [00:00<00:00,  7.47it/s]"
          ],
          "name": "stderr"
        },
        {
          "output_type": "stream",
          "text": [
            "\n",
            " Evaluation accuracy: 0.7625\n",
            "Done!\n",
            "\n",
            " Evaluate on test set\n"
          ],
          "name": "stdout"
        },
        {
          "output_type": "stream",
          "text": [
            "100%|██████████| 4/4 [00:00<00:00,  7.39it/s]"
          ],
          "name": "stderr"
        },
        {
          "output_type": "stream",
          "text": [
            "\n",
            " Evaluation accuracy: 0.775\n"
          ],
          "name": "stdout"
        },
        {
          "output_type": "stream",
          "text": [
            "\n"
          ],
          "name": "stderr"
        }
      ]
    },
    {
      "cell_type": "code",
      "metadata": {
        "id": "U6zqBgJbl00S",
        "colab": {
          "base_uri": "https://localhost:8080/",
          "height": 350
        },
        "outputId": "ef862512-f13c-4b9f-d05f-8ed41af6ff63"
      },
      "source": [
        "##############################################################################\n",
        "# TODO: Submit the accuracy plot                                             #\n",
        "##############################################################################\n",
        "# visualize the training / validation accuracies\n",
        "x = np.arange(num_epoch)\n",
        "# train/val accuracies for MiniVGG\n",
        "plt.figure()\n",
        "plt.plot(x, trn_acc_hist)\n",
        "plt.plot(x, val_acc_hist)\n",
        "plt.legend(['Training', 'Validation'])\n",
        "plt.xticks(x)\n",
        "plt.xlabel('Epoch')\n",
        "plt.ylabel('Accuracy')\n",
        "plt.title('fashion MNIST Classification')\n",
        "plt.gcf().set_size_inches(10, 5)\n",
        "plt.show()"
      ],
      "execution_count": null,
      "outputs": [
        {
          "output_type": "display_data",
          "data": {
            "image/png": "[encoded data removed]",
            "text/plain": [
              "<Figure size 720x360 with 1 Axes>"
            ]
          },
          "metadata": {
            "tags": [],
            "needs_background": "light"
          }
        }
      ]
    },
    {
      "cell_type": "code",
      "metadata": {
        "colab": {
          "base_uri": "https://localhost:8080/",
          "height": 265
        },
        "id": "-fsFaO8Gy9-z",
        "outputId": "48cc7863-3795-420a-b9bf-6a23d0dbf3a0"
      },
      "source": [
        "plt.figure()\n",
        "plt.plot(x, trn_loss_hist)\n",
        "plt.show()"
      ],
      "execution_count": null,
      "outputs": [
        {
          "output_type": "display_data",
          "data": {
            "image/png": "[encoded data removed]",
            "text/plain": [
              "<Figure size 432x288 with 1 Axes>"
            ]
          },
          "metadata": {
            "tags": [],
            "needs_background": "light"
          }
        }
      ]
    }
  ]
}